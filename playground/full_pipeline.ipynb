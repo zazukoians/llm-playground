{
 "cells": [
  {
   "cell_type": "code",
   "execution_count": 2,
   "metadata": {},
   "outputs": [],
   "source": [
    "%load_ext autoreload\n",
    "%autoreload 2"
   ]
  },
  {
   "cell_type": "code",
   "execution_count": 3,
   "metadata": {},
   "outputs": [],
   "source": [
    "import os\n",
    "\n",
    "OPENAI_API_KEY = os.environ[\"OPENAI_API_KEY\"]"
   ]
  },
  {
   "cell_type": "code",
   "execution_count": 4,
   "metadata": {},
   "outputs": [],
   "source": [
    "from loguru import logger\n",
    "from langchain.callbacks import FileCallbackHandler\n",
    "from datetime import date\n",
    "\n",
    "today = date.today()\n",
    "\n",
    "logfile = f\"logs/full_pipeline_{today.year}_{today.month}_{today.day}.log\"\n",
    "logger.add(logfile, format=\"{message}\", colorize=False, enqueue=True)\n",
    "handler = FileCallbackHandler(logfile)"
   ]
  },
  {
   "cell_type": "code",
   "execution_count": 16,
   "metadata": {},
   "outputs": [
    {
     "name": "stderr",
     "output_type": "stream",
     "text": [
      "WARNING! top_p is not default parameter.\n",
      "                    top_p was transferred to model_kwargs.\n",
      "                    Please confirm that top_p is what you intended.\n",
      "\u001b[32m2025-01-15 17:39:05.579\u001b[0m | \u001b[1mINFO    \u001b[0m | \u001b[36m__main__\u001b[0m:\u001b[36m<module>\u001b[0m:\u001b[36m29\u001b[0m - \u001b[1m========== CUBES RESPONSE ================\u001b[0m\n",
      "\u001b[32m2025-01-15 17:39:05.581\u001b[0m | \u001b[1mINFO    \u001b[0m | \u001b[36m__main__\u001b[0m:\u001b[36m<module>\u001b[0m:\u001b[36m30\u001b[0m - \u001b[1mThe cube that best answers the question about maximum contamination in lead in soil in 2022 is:\n",
      "\n",
      "**Cube ID:** <https://environment.ld.admin.ch/foen/ubd006601/3>\n",
      "\n",
      "**Justification:** This cube is titled \"Heavy Metal Soil Contamination\" and contains measurement data of heavy metal concentrations, which would include lead, recorded in the top 20 cm of the soil. While the specific year 2022 is not mentioned, it is reasonable to assume that the data collected in this cube would provide relevant information regarding lead contamination in soil.\n",
      "\n",
      "**Available Topics in the Cubes:**\n",
      "- Forest fire danger\n",
      "- Forest fire prevention measures\n",
      "- NFI: Change\n",
      "- Traffic noise pollution\n",
      "- Air pollution along the A2 and A13 - annual averages - NO and NO2\n",
      "- Bathing water quality\n",
      "- Greenhouse gas emissions by sector and by gas\n",
      "- Shares of greenhouse gas emissions from motor fuels in the Transport sector\n",
      "- NFI: Topics by diameter at breast height (main diameter classes)\n",
      "- NFI: Topics by diameter at breast height (in 4 cm classes)\n",
      "- NFI: Topics by aspect (9 classes)\n",
      "- NFI: Topics by tree species (5 classes)\n",
      "- NFI: Topics by tree state (living/dead)\n",
      "- NFI: Topics by tree state (standing/lying)\n",
      "- NFI: Topics by giant (yes/no)\n",
      "- NFI: Topics by extent of damage gaps (10 classes)\n",
      "- NFI: Topics by dominant diameter at breast height (standing-living - in 8 classes)\n",
      "- NFI: Topics by diameter at breast height (10 classes)\n",
      "- NFI: Topics by length of lying dead tree (6 classes)\n",
      "- NFI: Topics by stem height of broken snags (6 classes)\n",
      "- NFI: Topics by development stage\n",
      "- NFI: Topics by tree age (in 40-year classes)\n",
      "- NFI: Topics by tree species (56 classes)\n",
      "- NFI: Topics by degree of mixture (terrestrial)\n",
      "- NFI: Topics by introduced tree species (tree neophytes; 3 classes; from NFI1 on)\n",
      "- NFI: Topics by introduced tree species (tree neophytes; 8 classes)\n",
      "- NFI: Topics by altitudinal vegetation belts (NaiS; 10 classes)\n",
      "- NFI: Topics by altitudinal vegetation belts (NaiS; 6 classes)\n",
      "- NFI: Topics by higher/lower altitude zone\n",
      "- NFI: Topics by forest formations (NaiS; 10 classes)\n",
      "- NFI: Topics by forest type (17 classes)\n",
      "- NFI: Topics by degree of damage\n",
      "- NFI: Topics by number of cases of damage\n",
      "- NFI: Topics by time of last treatment (in 5- or 10-year classes)\n",
      "- NFI: Topics by site quality\n",
      "- NFI: Topics by forest type (12 classes)\n",
      "- NFI: Topics by main tree species\n",
      "- NFI: Topics by ownership (2 categories)\n",
      "- NFI: Topics by conifers and broadleaves\n",
      "- NFI: Topics by tree condition\n",
      "- CO2 emissions from thermal fuels (corrected for weather conditions) and motor fuels\n",
      "- Heavy Metal Soil Contamination\n",
      "- Red List\u001b[0m\n"
     ]
    }
   ],
   "source": [
    "from lib import create_cube_selection_chain, fetch_cubes_descriptions, parse_all_cubes, fetch_cube_sample, fetch_dimensions_triplets\n",
    "\n",
    "cube_selection_settings = {\n",
    "    \"temperature\": 0.5,\n",
    "    \"top_p\": 0.5\n",
    "}\n",
    "cubes = fetch_cubes_descriptions()\n",
    "#dimensions = fetch_dimensions()\n",
    "cube_selection_chain = create_cube_selection_chain(api_key=OPENAI_API_KEY, handler=handler, **cube_selection_settings)\n",
    "\n",
    "questions = [\n",
    "\"sum of emission of CO2 for industry between year 2009 and 2011\",\n",
    "\"get average of emission of Methane for transport between years 2007 and 2005\",\n",
    "\"What percentage of emission was from N2O and CH4 compared to total emission?\",\n",
    "\"what bathing stations are in switzerland?\",\n",
    "\"what swiss bathing stations had poor water quality in 2024?\",\n",
    "\"what is maximum contamination in lead in soil in 2022?\",\n",
    "\"what's for lunch\"]\n",
    "\n",
    "question=questions[-2]\n",
    "\n",
    "\n",
    "cube_selection_response = await cube_selection_chain.ainvoke({\n",
    "    \"cubes\": cubes,\n",
    "    \"question\": question,\n",
    "})\n",
    "cube_selection_response = cube_selection_response['text']\n",
    "\n",
    "logger.info(\"========== CUBES RESPONSE ================\")\n",
    "logger.info(f\"{cube_selection_response}\")"
   ]
  },
  {
   "cell_type": "code",
   "execution_count": 14,
   "metadata": {},
   "outputs": [
    {
     "data": {
      "text/plain": [
       "'what is average contamination in plomb in soil in 2022?'"
      ]
     },
     "execution_count": 14,
     "metadata": {},
     "output_type": "execute_result"
    }
   ],
   "source": [
    "question"
   ]
  },
  {
   "cell_type": "code",
   "execution_count": 6,
   "metadata": {},
   "outputs": [
    {
     "ename": "IndexError",
     "evalue": "list index out of range",
     "output_type": "error",
     "traceback": [
      "\u001b[0;31m---------------------------------------------------------------------------\u001b[0m",
      "\u001b[0;31mIndexError\u001b[0m                                Traceback (most recent call last)",
      "Cell \u001b[0;32mIn[6], line 2\u001b[0m\n\u001b[1;32m      1\u001b[0m selected_cubes \u001b[38;5;241m=\u001b[39m parse_all_cubes(cube_selection_response)\n\u001b[0;32m----> 2\u001b[0m selected_cube \u001b[38;5;241m=\u001b[39m \u001b[43mselected_cubes\u001b[49m\u001b[43m[\u001b[49m\u001b[38;5;241;43m0\u001b[39;49m\u001b[43m]\u001b[49m\n\u001b[1;32m      4\u001b[0m logger\u001b[38;5;241m.\u001b[39minfo(\u001b[38;5;124m\"\u001b[39m\u001b[38;5;124m========== SELECTED FIRST CUBE ================\u001b[39m\u001b[38;5;124m\"\u001b[39m)\n\u001b[1;32m      5\u001b[0m logger\u001b[38;5;241m.\u001b[39minfo(selected_cube)\n",
      "\u001b[0;31mIndexError\u001b[0m: list index out of range"
     ]
    }
   ],
   "source": [
    "selected_cubes = parse_all_cubes(cube_selection_response)\n",
    "selected_cube = selected_cubes[0]\n",
    "\n",
    "logger.info(\"========== SELECTED FIRST CUBE ================\")\n",
    "logger.info(selected_cube)"
   ]
  },
  {
   "cell_type": "code",
   "execution_count": 15,
   "metadata": {},
   "outputs": [],
   "source": [
    "cube_and_sample = fetch_cube_sample(selected_cube)\n",
    "\n",
    "# print(cube_and_sample)"
   ]
  },
  {
   "cell_type": "code",
   "execution_count": 16,
   "metadata": {},
   "outputs": [],
   "source": [
    "dimensions_triplets = fetch_dimensions_triplets(selected_cube)\n",
    "\n",
    "# print(dimensions_triplets)"
   ]
  },
  {
   "cell_type": "code",
   "execution_count": null,
   "metadata": {},
   "outputs": [
    {
     "name": "stderr",
     "output_type": "stream",
     "text": [
      "WARNING! top_p is not default parameter.\n",
      "                    top_p was transferred to model_kwargs.\n",
      "                    Please confirm that top_p is what you intended.\n",
      "\u001b[32m2025-01-15 17:24:32.904\u001b[0m | \u001b[1mINFO    \u001b[0m | \u001b[36m__main__\u001b[0m:\u001b[36m<module>\u001b[0m:\u001b[36m18\u001b[0m - \u001b[1m========== QUERY GENERATION RESPONSE ================\u001b[0m\n",
      "\u001b[32m2025-01-15 17:24:32.906\u001b[0m | \u001b[1mINFO    \u001b[0m | \u001b[36m__main__\u001b[0m:\u001b[36m<module>\u001b[0m:\u001b[36m19\u001b[0m - \u001b[1mPREFIX cube: <https://cube.link/>\n",
      "PREFIX schema: <http://schema.org/>\n",
      "PREFIX qudt: <http://qudt.org/schema/qudt/>\n",
      "PREFIX sh: <http://www.w3.org/ns/shacl#>\n",
      "PREFIX rdf: <http://www.w3.org/1999/02/22-rdf-syntax-ns#>\n",
      "PREFIX rdfs: <http://www.w3.org/2000/01/rdf-schema#>\n",
      "PREFIX xsd: <http://www.w3.org/2001/XMLSchema#>\n",
      "\n",
      "SELECT (SUM(?emission) AS ?totalEmission)\n",
      "WHERE {\n",
      "    <https://environment.ld.admin.ch/foen/ubd000504/8> a cube:Cube;\n",
      "        cube:observationSet ?observationSet.\n",
      "\n",
      "    ?observationSet a cube:ObservationSet;\n",
      "        cube:observation ?observation.\n",
      "\n",
      "    ?observation a cube:Observation;\n",
      "        <https://environment.ld.admin.ch/foen/ubd000504/jahr> ?year;\n",
      "        <https://environment.ld.admin.ch/foen/ubd000504/werte> ?emission.\n",
      "\n",
      "    FILTER(?year >= \"2009\"^^xsd:gYear && ?year <= \"2011\"^^xsd:gYear)\n",
      "}\u001b[0m\n"
     ]
    }
   ],
   "source": [
    "from lib import create_query_generation_chain\n",
    "\n",
    "query_generation_settings = {\n",
    "    \"temperature\": 0.2,\n",
    "    \"top_p\": 0.1\n",
    "}\n",
    "\n",
    "generation_chain = create_query_generation_chain(api_key=OPENAI_API_KEY, handler=handler, **query_generation_settings)\n",
    "\n",
    "query_generation_response = await generation_chain.ainvoke({\n",
    "    \"cube_and_sample\": cube_and_sample,\n",
    "    \"dimensions_triplets\": dimensions_triplets,\n",
    "    \"cube\": selected_cube,\n",
    "    \"question\": question,\n",
    "})\n",
    "query_generation_response = query_generation_response['text']\n",
    "\n",
    "logger.info(\"========== QUERY GENERATION RESPONSE ================\")\n",
    "logger.info(f\"{query_generation_response}\")"
   ]
  },
  {
   "cell_type": "code",
   "execution_count": null,
   "metadata": {},
   "outputs": [
    {
     "name": "stderr",
     "output_type": "stream",
     "text": [
      "\u001b[32m2025-01-15 17:24:33.149\u001b[0m | \u001b[1mINFO    \u001b[0m | \u001b[36m__main__\u001b[0m:\u001b[36m<module>\u001b[0m:\u001b[36m5\u001b[0m - \u001b[1m=========== QUERY RESULT ============\u001b[0m\n",
      "\u001b[32m2025-01-15 17:24:33.150\u001b[0m | \u001b[1mINFO    \u001b[0m | \u001b[36m__main__\u001b[0m:\u001b[36m<module>\u001b[0m:\u001b[36m6\u001b[0m - \u001b[1m{'head': {'vars': ['totalEmission']}, 'results': {'bindings': [{'totalEmission': {'datatype': 'http://www.w3.org/2001/XMLSchema#decimal', 'type': 'literal', 'value': '112.144'}}]}}\u001b[0m\n"
     ]
    }
   ],
   "source": [
    "from lib import run_query\n",
    "\n",
    "result = run_query(query_generation_response)\n",
    "\n",
    "logger.info(\"=========== QUERY RESULT ============\")\n",
    "logger.info(result)"
   ]
  }
 ],
 "metadata": {
  "kernelspec": {
   "display_name": ".venv",
   "language": "python",
   "name": "python3"
  },
  "language_info": {
   "codemirror_mode": {
    "name": "ipython",
    "version": 3
   },
   "file_extension": ".py",
   "mimetype": "text/x-python",
   "name": "python",
   "nbconvert_exporter": "python",
   "pygments_lexer": "ipython3",
   "version": "3.10.12"
  },
  "orig_nbformat": 4
 },
 "nbformat": 4,
 "nbformat_minor": 2
}
