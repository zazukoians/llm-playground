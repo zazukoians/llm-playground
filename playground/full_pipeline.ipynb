{
 "cells": [
  {
   "cell_type": "code",
   "execution_count": 3,
   "metadata": {},
   "outputs": [
    {
     "name": "stdout",
     "output_type": "stream",
     "text": [
      "The autoreload extension is already loaded. To reload it, use:\n",
      "  %reload_ext autoreload\n"
     ]
    }
   ],
   "source": [
    "%load_ext autoreload\n",
    "%autoreload 2"
   ]
  },
  {
   "cell_type": "code",
   "execution_count": 4,
   "metadata": {},
   "outputs": [],
   "source": [
    "import os\n",
    "\n",
    "OPENAI_API_KEY = os.environ[\"OPENAI_API_KEY\"]"
   ]
  },
  {
   "cell_type": "code",
   "execution_count": 5,
   "metadata": {},
   "outputs": [],
   "source": [
    "from loguru import logger\n",
    "from langchain.callbacks import FileCallbackHandler\n",
    "from datetime import date\n",
    "\n",
    "today = date.today()\n",
    "\n",
    "logfile = f\"logs/full_pipeline_{today.year}_{today.month}_{today.day}.log\"\n",
    "logger.add(logfile, format=\"{message}\", colorize=False, enqueue=True)\n",
    "handler = FileCallbackHandler(logfile)"
   ]
  },
  {
   "cell_type": "code",
   "execution_count": null,
   "metadata": {},
   "outputs": [
    {
     "name": "stderr",
     "output_type": "stream",
     "text": [
      "WARNING! top_p is not default parameter.\n",
      "                    top_p was transferred to model_kwargs.\n",
      "                    Please confirm that top_p is what you intended.\n",
      "\u001b[32m2025-01-16 09:58:21.775\u001b[0m | \u001b[1mINFO    \u001b[0m | \u001b[36m__main__\u001b[0m:\u001b[36m<module>\u001b[0m:\u001b[36m29\u001b[0m - \u001b[1m========== CUBES RESPONSE ================\u001b[0m\n",
      "\u001b[32m2025-01-16 09:58:21.777\u001b[0m | \u001b[1mINFO    \u001b[0m | \u001b[36m__main__\u001b[0m:\u001b[36m<module>\u001b[0m:\u001b[36m30\u001b[0m - \u001b[1mThe cube that best answers the question regarding the percentage of emissions from N2O (nitrous oxide) and CH4 (methane) compared to total emissions is:\n",
      "\n",
      "**Cube ID:** <https://environment.ld.admin.ch/foen/ubd000502/5>\n",
      "\n",
      "**Justification:** This cube titled \"Greenhouse gas emissions by sector and by gas\" provides information on the evolution of Switzerland’s greenhouse gas emissions broken down by gas. It is likely to include data on N2O and CH4 emissions as part of the total greenhouse gas emissions, which is essential for calculating the percentage of these specific gases in relation to total emissions.\n",
      "\n",
      "### Available Topics in the Cubes:\n",
      "- Forest fire danger\n",
      "- Forest fire prevention measures\n",
      "- NFI: Change\n",
      "- Traffic noise pollution\n",
      "- Air pollution along the A2 and A13 - annual averages - NO and NO2\n",
      "- Bathing water quality\n",
      "- Greenhouse gas emissions by sector and by gas\n",
      "- Shares of greenhouse gas emissions from motor fuels in the Transport sector\n",
      "- NFI: Topics by diameter at breast height (main diameter classes)\n",
      "- NFI: Topics by diameter at breast height (in 4 cm classes)\n",
      "- NFI: Topics by aspect (9 classes)\n",
      "- NFI: Topics by tree species (5 classes)\n",
      "- NFI: Topics by tree state (living/dead)\n",
      "- NFI: Topics by tree state (standing/lying)\n",
      "- NFI: Topics by giant (yes/no)\n",
      "- NFI: Topics by extent of damage gaps (10 classes)\n",
      "- NFI: Topics by dominant diameter at breast height (standing-living - in 8 classes)\n",
      "- NFI: Topics by diameter at breast height (10 classes)\n",
      "- NFI: Topics by length of lying dead tree (6 classes)\n",
      "- NFI: Topics by stem height of broken snags (6 classes)\n",
      "- NFI: Topics by development stage\n",
      "- NFI: Topics by tree age (in 40-year classes)\n",
      "- NFI: Topics by tree species (56 classes)\n",
      "- NFI: Topics by degree of mixture (terrestrial)\n",
      "- NFI: Topics by introduced tree species (tree neophytes; 3 classes; from NFI1 on)\n",
      "- NFI: Topics by introduced tree species (tree neophytes; 8 classes)\n",
      "- NFI: Topics by altitudinal vegetation belts (NaiS; 10 classes)\n",
      "- NFI: Topics by altitudinal vegetation belts (NaiS; 6 classes)\n",
      "- NFI: Topics by higher/lower altitude zone\n",
      "- NFI: Topics by forest formations (NaiS; 10 classes)\n",
      "- NFI: Topics by forest type (17 classes)\n",
      "- NFI: Topics by degree of damage\n",
      "- NFI: Topics by number of cases of damage\n",
      "- NFI: Topics by time of last treatment (in 5- or 10-year classes)\n",
      "- NFI: Topics by site quality\n",
      "- NFI: Topics by forest type (12 classes)\n",
      "- NFI: Topics by main tree species\n",
      "- NFI: Topics by ownership (2 categories)\n",
      "- NFI: Topics by conifers and broadleaves\n",
      "- NFI: Topics by tree condition\n",
      "- CO2 emissions from thermal fuels (corrected for weather conditions) and motor fuels\n",
      "- Heavy Metal Soil Contamination\n",
      "- Red List\u001b[0m\n"
     ]
    }
   ],
   "source": [
    "from lib import create_cube_selection_chain, fetch_cubes_descriptions, parse_all_cubes, fetch_cube_sample, fetch_dimensions_triplets\n",
    "\n",
    "cube_selection_settings = {\n",
    "    \"temperature\": 0.5,\n",
    "    \"top_p\": 0.5\n",
    "}\n",
    "cubes = fetch_cubes_descriptions()\n",
    "#dimensions = fetch_dimensions()\n",
    "cube_selection_chain = create_cube_selection_chain(api_key=OPENAI_API_KEY, handler=handler, **cube_selection_settings)\n",
    "\n",
    "questions = [\n",
    "\"sum of emission of CO2 for industry between year 2009 and 2011\",\n",
    "\"get average of emission of Methane for transport between years 2007 and 2005\",\n",
    "\"What percentage of emission was from N2O and CH4 compared to total emission?\",\n",
    "\"what bathing stations are in switzerland?\",\n",
    "\"what swiss bathing stations had poor water quality in 2024?\",\n",
    "\"what is maximum contamination in lead in soil in 2022?\",\n",
    "\"what's for lunch\"]\n",
    "\n",
    "question=questions[-2]\n",
    "\n",
    "\n",
    "cube_selection_response = await cube_selection_chain.ainvoke({\n",
    "    \"cubes\": cubes,\n",
    "    \"question\": question,\n",
    "})\n",
    "cube_selection_response = cube_selection_response['text']\n",
    "\n",
    "logger.info(\"========== CUBES RESPONSE ================\")\n",
    "logger.info(f\"{cube_selection_response}\")"
   ]
  },
  {
   "cell_type": "code",
   "execution_count": 7,
   "metadata": {},
   "outputs": [
    {
     "data": {
      "text/plain": [
       "'what is maximum contamination in lead in soil in 2022?'"
      ]
     },
     "execution_count": 7,
     "metadata": {},
     "output_type": "execute_result"
    }
   ],
   "source": [
    "question"
   ]
  },
  {
   "cell_type": "code",
   "execution_count": 8,
   "metadata": {},
   "outputs": [
    {
     "name": "stderr",
     "output_type": "stream",
     "text": [
      "\u001b[32m2025-01-16 09:53:23.391\u001b[0m | \u001b[1mINFO    \u001b[0m | \u001b[36m__main__\u001b[0m:\u001b[36m<module>\u001b[0m:\u001b[36m4\u001b[0m - \u001b[1m========== SELECTED FIRST CUBE ================\u001b[0m\n",
      "\u001b[32m2025-01-16 09:53:23.393\u001b[0m | \u001b[1mINFO    \u001b[0m | \u001b[36m__main__\u001b[0m:\u001b[36m<module>\u001b[0m:\u001b[36m5\u001b[0m - \u001b[1m<https://environment.ld.admin.ch/foen/ubd006601/3>\u001b[0m\n"
     ]
    }
   ],
   "source": [
    "selected_cubes = parse_all_cubes(cube_selection_response)\n",
    "selected_cube = selected_cubes[0]\n",
    "\n",
    "logger.info(\"========== SELECTED FIRST CUBE ================\")\n",
    "logger.info(selected_cube)"
   ]
  },
  {
   "cell_type": "code",
   "execution_count": 9,
   "metadata": {},
   "outputs": [],
   "source": [
    "cube_and_sample = fetch_cube_sample(selected_cube)\n",
    "\n",
    "# print(cube_and_sample)"
   ]
  },
  {
   "cell_type": "code",
   "execution_count": 10,
   "metadata": {},
   "outputs": [],
   "source": [
    "dimensions_triplets = fetch_dimensions_triplets(selected_cube)\n",
    "\n",
    "# print(dimensions_triplets)"
   ]
  },
  {
   "cell_type": "code",
   "execution_count": 11,
   "metadata": {},
   "outputs": [
    {
     "name": "stderr",
     "output_type": "stream",
     "text": [
      "WARNING! top_p is not default parameter.\n",
      "                    top_p was transferred to model_kwargs.\n",
      "                    Please confirm that top_p is what you intended.\n",
      "\u001b[32m2025-01-16 09:53:33.429\u001b[0m | \u001b[1mINFO    \u001b[0m | \u001b[36m__main__\u001b[0m:\u001b[36m<module>\u001b[0m:\u001b[36m18\u001b[0m - \u001b[1m========== QUERY GENERATION RESPONSE ================\u001b[0m\n",
      "\u001b[32m2025-01-16 09:53:33.431\u001b[0m | \u001b[1mINFO    \u001b[0m | \u001b[36m__main__\u001b[0m:\u001b[36m<module>\u001b[0m:\u001b[36m19\u001b[0m - \u001b[1mPREFIX cube: <https://cube.link/>\n",
      "PREFIX schema: <http://schema.org/>\n",
      "PREFIX qudt: <http://qudt.org/schema/qudt/>\n",
      "PREFIX sh: <http://www.w3.org/ns/shacl#>\n",
      "PREFIX rdf: <http://www.w3.org/1999/02/22-rdf-syntax-ns#>\n",
      "PREFIX rdfs: <http://www.w3.org/2000/01/rdf-schema#>\n",
      "PREFIX xsd: <http://www.w3.org/2001/XMLSchema#>\n",
      "\n",
      "SELECT MAX(?wert) AS ?maxLeadContamination\n",
      "WHERE {\n",
      "    <https://environment.ld.admin.ch/foen/ubd006601/3> a cube:Cube;\n",
      "        cube:observationSet ?observationSet.\n",
      "\n",
      "    ?observationSet a cube:ObservationSet;\n",
      "        cube:observation ?observation.\n",
      "\n",
      "    ?observation a cube:Observation;\n",
      "        <https://environment.ld.admin.ch/foen/ubd006601/wert> ?wert;\n",
      "        <https://environment.ld.admin.ch/foen/ubd006601/messparameter> <https://environment.ld.admin.ch/vocabulary/chemical-elements-bafu/pb>;\n",
      "        <https://environment.ld.admin.ch/foen/ubd006601/jahr> ?year.\n",
      "    \n",
      "    FILTER(?year = \"2022\"^^xsd:gYear)\n",
      "}\n",
      "GROUP BY ?year\u001b[0m\n"
     ]
    }
   ],
   "source": [
    "from lib import create_query_generation_chain\n",
    "\n",
    "query_generation_settings = {\n",
    "    \"temperature\": 0.2,\n",
    "    \"top_p\": 0.1\n",
    "}\n",
    "\n",
    "generation_chain = create_query_generation_chain(api_key=OPENAI_API_KEY, handler=handler, **query_generation_settings)\n",
    "\n",
    "query_generation_response = await generation_chain.ainvoke({\n",
    "    \"cube_and_sample\": cube_and_sample,\n",
    "    \"dimensions_triplets\": dimensions_triplets,\n",
    "    \"cube\": selected_cube,\n",
    "    \"question\": question,\n",
    "})\n",
    "query_generation_response = query_generation_response['text']\n",
    "\n",
    "logger.info(\"========== QUERY GENERATION RESPONSE ================\")\n",
    "logger.info(f\"{query_generation_response}\")"
   ]
  },
  {
   "cell_type": "code",
   "execution_count": 12,
   "metadata": {},
   "outputs": [
    {
     "ename": "QueryBadFormed",
     "evalue": "QueryBadFormed: A bad request has been sent to the endpoint: probably the SPARQL query is badly formed. \n\nResponse:\nb'{\"message\":\"com.complexible.stardog.plan.eval.ExecutionException: Invalid SPARQL query: Encountered \\\\\" \\\\\"max\\\\\" \\\\\"MAX \\\\\"\\\\\" at line 9, column 8.\\\\nWas expecting one of:\\\\n    \\\\\"(\\\\\" ...\\\\n    \\\\\"*\\\\\" ...\\\\n    \\\\\"reduced\\\\\" ...\\\\n    \\\\\"distinct\\\\\" ...\\\\n    <VAR1> ...\\\\n    <VAR2> ...\\\\n    \",\"code\":\"QE0PE2\",\"timestamp\":\"2025-01-16T08:53:33.571606Z\",\"stacktrace\":\"com.stardog.stark.query.QueryExecutionFailure: com.complexible.stardog.plan.eval.ExecutionException: Invalid SPARQL query: Encountered \\\\\" \\\\\"max\\\\\" \\\\\"MAX \\\\\"\\\\\" at line 9, column 8.\\\\nWas expecting one of:\\\\n    \\\\\"(\\\\\" ...\\\\n    \\\\\"*\\\\\" ...\\\\n    \\\\\"reduced\\\\\" ...\\\\n    \\\\\"distinct\\\\\" ...\\\\n    <VAR1> ...\\\\n    <VAR2> ...\\\\n    \\\\n\\\\tat com.stardog.stark.query.QueryExecutionFailure.forLoggedError(QueryExecutionFailure.java:46)\\\\n\\\\tat com.complexible.stardog.query.DefaultQueryFactory$SelectQuery.execute(DefaultQueryFactory.java:274)\\\\n\\\\tat com.complexible.stardog.query.DefaultQueryFactory$SelectQuery.execute(DefaultQueryFactory.java:257)\\\\n\\\\tat com.complexible.stardog.query.DelegatingQuery.execute(DelegatingQuery.java:68)\\\\n\\\\tat com.complexible.stardog.db.DatabaseImpl$TimerPausingReadQuery.execute(DatabaseImpl.java:1804)\\\\n\\\\tat com.complexible.stardog.db.DatabaseImpl$TimerPausingReadQuery.execute(DatabaseImpl.java:1791)\\\\n\\\\tat com.complexible.stardog.query.DelegatingQuery.execute(DelegatingQuery.java:60)\\\\n\\\\tat com.complexible.stardog.StardogKernel$SecuredReadQuery.execute(StardogKernel.java:4937)\\\\n\\\\tat com.complexible.stardog.StardogKernel$SecuredReadQuery.execute(StardogKernel.java:4924)\\\\n\\\\tat com.complexible.stardog.query.DelegatingQuery.execute(DelegatingQuery.java:60)\\\\n\\\\tat com.complexible.stardog.MonitoredQuery$MonitoredReadQuery.execute(MonitoredQuery.java:54)\\\\n\\\\tat com.complexible.stardog.MonitoredQuery$MonitoredReadQuery.execute(MonitoredQuery.java:36)\\\\n\\\\tat com.complexible.stardog.protocols.http.server.ProtocolUtils.executeReadQuery(ProtocolUtils.java:544)\\\\n\\\\tat com.complexible.stardog.protocols.http.server.ProtocolUtils.executeReadQuery(ProtocolUtils.java:517)\\\\n\\\\tat com.complexible.stardog.protocols.http.server.SPARQLProtocol.executeQuery(SPARQLProtocol.java:251)\\\\n\\\\tat com.complexible.stardog.protocols.http.server.SPARQLProtocol.getSparqlQuery(SPARQLProtocol.java:140)\\\\n\\\\tat com.stardog.http.server.undertow.jaxrs.ExtractRoutes.lambda$handleIt$5(ExtractRoutes.java:193)\\\\n\\\\tat org.apache.shiro.subject.support.SubjectRunnable.doRun(SubjectRunnable.java:120)\\\\n\\\\tat org.apache.shiro.subject.support.SubjectRunnable.run(SubjectRunnable.java:108)\\\\n\\\\tat java.base/java.util.concurrent.ThreadPoolExecutor.runWorker(ThreadPoolExecutor.java:1128)\\\\n\\\\tat java.base/java.util.concurrent.ThreadPoolExecutor$Worker.run(ThreadPoolExecutor.java:628)\\\\n\\\\tat java.base/java.lang.Thread.run(Thread.java:829)\\\\nCaused by: com.complexible.stardog.plan.eval.ExecutionException: Invalid SPARQL query: Encountered \\\\\" \\\\\"max\\\\\" \\\\\"MAX \\\\\"\\\\\" at line 9, column 8.\\\\nWas expecting one of:\\\\n    \\\\\"(\\\\\" ...\\\\n    \\\\\"*\\\\\" ...\\\\n    \\\\\"reduced\\\\\" ...\\\\n    \\\\\"distinct\\\\\" ...\\\\n    <VAR1> ...\\\\n    <VAR2> ...\\\\n    \\\\n\\\\tat com.complexible.stardog.plan.eval.QueryEngine.handleError(QueryEngine.java:326)\\\\n\\\\tat com.complexible.stardog.plan.eval.QueryEngine.handleError(QueryEngine.java:310)\\\\n\\\\tat com.complexible.stardog.plan.eval.QueryEngine.executePlan(QueryEngine.java:501)\\\\n\\\\tat com.complexible.stardog.plan.eval.QueryEngine.executePlan(QueryEngine.java:237)\\\\n\\\\tat com.complexible.stardog.plan.eval.QueryEngine.executePlan(QueryEngine.java:469)\\\\n\\\\tat com.complexible.stardog.plan.eval.QueryEngine.executeSelectPlan(QueryEngine.java:424)\\\\n\\\\tat com.complexible.stardog.plan.eval.QueryEngine.executeSelect(QueryEngine.java:407)\\\\n\\\\tat com.complexible.stardog.query.DefaultQueryFactory$SelectQuery.execute(DefaultQueryFactory.java:271)\\\\n\\\\t... 20 more\\\\nCaused by: com.complexible.stardog.plan.parser.QueryParseException: Invalid SPARQL query: Encountered \\\\\" \\\\\"max\\\\\" \\\\\"MAX \\\\\"\\\\\" at line 9, column 8.\\\\nWas expecting one of:\\\\n    \\\\\"(\\\\\" ...\\\\n    \\\\\"*\\\\\" ...\\\\n    \\\\\"reduced\\\\\" ...\\\\n    \\\\\"distinct\\\\\" ...\\\\n    <VAR1> ...\\\\n    <VAR2> ...\\\\n    \\\\n\\\\tat com.complexible.stardog.plan.parser.QueryParserImpl.parseQuery(QueryParserImpl.java:598)\\\\n\\\\tat com.complexible.stardog.plan.parser.QueryParserImpl.parseQuery(QueryParserImpl.java:554)\\\\n\\\\tat com.complexible.stardog.plan.PlanContext.planFor(PlanContext.java:137)\\\\n\\\\tat com.complexible.stardog.plan.eval.QueryEngine.planFor(QueryEngine.java:621)\\\\n\\\\tat com.complexible.stardog.plan.eval.QueryEngine.lambda$executeSelect$18(QueryEngine.java:407)\\\\n\\\\tat com.complexible.stardog.plan.eval.QueryEngine.getExecutablePlan(QueryEngine.java:746)\\\\n\\\\tat com.complexible.stardog.plan.eval.QueryEngine.executePlan(QueryEngine.java:495)\\\\n\\\\t... 25 more\\\\nCaused by: com.complexible.common.rdf.query.parser.sparql.ast.ParseException: Encountered \\\\\" \\\\\"max\\\\\" \\\\\"MAX \\\\\"\\\\\" at line 9, column 8.\\\\nWas expecting one of:\\\\n    \\\\\"(\\\\\" ...\\\\n    \\\\\"*\\\\\" ...\\\\n    \\\\\"reduced\\\\\" ...\\\\n    \\\\\"distinct\\\\\" ...\\\\n    <VAR1> ...\\\\n    <VAR2> ...\\\\n    \\\\n\\\\tat com.complexible.common.rdf.query.parser.sparql.ast.SyntaxTreeBuilder.generateParseException(SyntaxTreeBuilder.java:11275)\\\\n\\\\tat com.complexible.common.rdf.query.parser.sparql.ast.SyntaxTreeBuilder.jj_consume_token(SyntaxTreeBuilder.java:11128)\\\\n\\\\tat com.complexible.common.rdf.query.parser.sparql.ast.SyntaxTreeBuilder.Select(SyntaxTreeBuilder.java:913)\\\\n\\\\tat com.complexible.common.rdf.query.parser.sparql.ast.SyntaxTreeBuilder.SelectQuery(SyntaxTreeBuilder.java:766)\\\\n\\\\tat com.complexible.common.rdf.query.parser.sparql.ast.SyntaxTreeBuilder.Query(SyntaxTreeBuilder.java:445)\\\\n\\\\tat com.complexible.common.rdf.query.parser.sparql.ast.SyntaxTreeBuilder.QueryContainer(SyntaxTreeBuilder.java:217)\\\\n\\\\tat com.complexible.common.rdf.query.parser.sparql.ast.SyntaxTreeBuilder.parseQuery(SyntaxTreeBuilder.java:31)\\\\n\\\\tat com.complexible.stardog.plan.parser.QueryParserImpl.parseQuery(QueryParserImpl.java:559)\\\\n\\\\t... 31 more\\\\n\",\"stacktraceBinary\":\"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\"}'",
     "output_type": "error",
     "traceback": [
      "\u001b[0;31m---------------------------------------------------------------------------\u001b[0m",
      "\u001b[0;31mHTTPError\u001b[0m                                 Traceback (most recent call last)",
      "File \u001b[0;32m~/zazuko/llm-playground/venv/lib/python3.10/site-packages/SPARQLWrapper/Wrapper.py:926\u001b[0m, in \u001b[0;36mSPARQLWrapper._query\u001b[0;34m(self)\u001b[0m\n\u001b[1;32m    925\u001b[0m \u001b[38;5;28;01melse\u001b[39;00m:\n\u001b[0;32m--> 926\u001b[0m     response \u001b[38;5;241m=\u001b[39m \u001b[43murlopener\u001b[49m\u001b[43m(\u001b[49m\u001b[43mrequest\u001b[49m\u001b[43m)\u001b[49m\n\u001b[1;32m    927\u001b[0m \u001b[38;5;28;01mreturn\u001b[39;00m response, \u001b[38;5;28mself\u001b[39m\u001b[38;5;241m.\u001b[39mreturnFormat\n",
      "File \u001b[0;32m~/.pyenv/versions/3.10.6/lib/python3.10/urllib/request.py:216\u001b[0m, in \u001b[0;36murlopen\u001b[0;34m(url, data, timeout, cafile, capath, cadefault, context)\u001b[0m\n\u001b[1;32m    215\u001b[0m     opener \u001b[38;5;241m=\u001b[39m _opener\n\u001b[0;32m--> 216\u001b[0m \u001b[38;5;28;01mreturn\u001b[39;00m \u001b[43mopener\u001b[49m\u001b[38;5;241;43m.\u001b[39;49m\u001b[43mopen\u001b[49m\u001b[43m(\u001b[49m\u001b[43murl\u001b[49m\u001b[43m,\u001b[49m\u001b[43m \u001b[49m\u001b[43mdata\u001b[49m\u001b[43m,\u001b[49m\u001b[43m \u001b[49m\u001b[43mtimeout\u001b[49m\u001b[43m)\u001b[49m\n",
      "File \u001b[0;32m~/.pyenv/versions/3.10.6/lib/python3.10/urllib/request.py:525\u001b[0m, in \u001b[0;36mOpenerDirector.open\u001b[0;34m(self, fullurl, data, timeout)\u001b[0m\n\u001b[1;32m    524\u001b[0m     meth \u001b[38;5;241m=\u001b[39m \u001b[38;5;28mgetattr\u001b[39m(processor, meth_name)\n\u001b[0;32m--> 525\u001b[0m     response \u001b[38;5;241m=\u001b[39m \u001b[43mmeth\u001b[49m\u001b[43m(\u001b[49m\u001b[43mreq\u001b[49m\u001b[43m,\u001b[49m\u001b[43m \u001b[49m\u001b[43mresponse\u001b[49m\u001b[43m)\u001b[49m\n\u001b[1;32m    527\u001b[0m \u001b[38;5;28;01mreturn\u001b[39;00m response\n",
      "File \u001b[0;32m~/.pyenv/versions/3.10.6/lib/python3.10/urllib/request.py:634\u001b[0m, in \u001b[0;36mHTTPErrorProcessor.http_response\u001b[0;34m(self, request, response)\u001b[0m\n\u001b[1;32m    633\u001b[0m \u001b[38;5;28;01mif\u001b[39;00m \u001b[38;5;129;01mnot\u001b[39;00m (\u001b[38;5;241m200\u001b[39m \u001b[38;5;241m<\u001b[39m\u001b[38;5;241m=\u001b[39m code \u001b[38;5;241m<\u001b[39m \u001b[38;5;241m300\u001b[39m):\n\u001b[0;32m--> 634\u001b[0m     response \u001b[38;5;241m=\u001b[39m \u001b[38;5;28;43mself\u001b[39;49m\u001b[38;5;241;43m.\u001b[39;49m\u001b[43mparent\u001b[49m\u001b[38;5;241;43m.\u001b[39;49m\u001b[43merror\u001b[49m\u001b[43m(\u001b[49m\n\u001b[1;32m    635\u001b[0m \u001b[43m        \u001b[49m\u001b[38;5;124;43m'\u001b[39;49m\u001b[38;5;124;43mhttp\u001b[39;49m\u001b[38;5;124;43m'\u001b[39;49m\u001b[43m,\u001b[49m\u001b[43m \u001b[49m\u001b[43mrequest\u001b[49m\u001b[43m,\u001b[49m\u001b[43m \u001b[49m\u001b[43mresponse\u001b[49m\u001b[43m,\u001b[49m\u001b[43m \u001b[49m\u001b[43mcode\u001b[49m\u001b[43m,\u001b[49m\u001b[43m \u001b[49m\u001b[43mmsg\u001b[49m\u001b[43m,\u001b[49m\u001b[43m \u001b[49m\u001b[43mhdrs\u001b[49m\u001b[43m)\u001b[49m\n\u001b[1;32m    637\u001b[0m \u001b[38;5;28;01mreturn\u001b[39;00m response\n",
      "File \u001b[0;32m~/.pyenv/versions/3.10.6/lib/python3.10/urllib/request.py:563\u001b[0m, in \u001b[0;36mOpenerDirector.error\u001b[0;34m(self, proto, *args)\u001b[0m\n\u001b[1;32m    562\u001b[0m args \u001b[38;5;241m=\u001b[39m (\u001b[38;5;28mdict\u001b[39m, \u001b[38;5;124m'\u001b[39m\u001b[38;5;124mdefault\u001b[39m\u001b[38;5;124m'\u001b[39m, \u001b[38;5;124m'\u001b[39m\u001b[38;5;124mhttp_error_default\u001b[39m\u001b[38;5;124m'\u001b[39m) \u001b[38;5;241m+\u001b[39m orig_args\n\u001b[0;32m--> 563\u001b[0m \u001b[38;5;28;01mreturn\u001b[39;00m \u001b[38;5;28;43mself\u001b[39;49m\u001b[38;5;241;43m.\u001b[39;49m\u001b[43m_call_chain\u001b[49m\u001b[43m(\u001b[49m\u001b[38;5;241;43m*\u001b[39;49m\u001b[43margs\u001b[49m\u001b[43m)\u001b[49m\n",
      "File \u001b[0;32m~/.pyenv/versions/3.10.6/lib/python3.10/urllib/request.py:496\u001b[0m, in \u001b[0;36mOpenerDirector._call_chain\u001b[0;34m(self, chain, kind, meth_name, *args)\u001b[0m\n\u001b[1;32m    495\u001b[0m func \u001b[38;5;241m=\u001b[39m \u001b[38;5;28mgetattr\u001b[39m(handler, meth_name)\n\u001b[0;32m--> 496\u001b[0m result \u001b[38;5;241m=\u001b[39m \u001b[43mfunc\u001b[49m\u001b[43m(\u001b[49m\u001b[38;5;241;43m*\u001b[39;49m\u001b[43margs\u001b[49m\u001b[43m)\u001b[49m\n\u001b[1;32m    497\u001b[0m \u001b[38;5;28;01mif\u001b[39;00m result \u001b[38;5;129;01mis\u001b[39;00m \u001b[38;5;129;01mnot\u001b[39;00m \u001b[38;5;28;01mNone\u001b[39;00m:\n",
      "File \u001b[0;32m~/.pyenv/versions/3.10.6/lib/python3.10/urllib/request.py:643\u001b[0m, in \u001b[0;36mHTTPDefaultErrorHandler.http_error_default\u001b[0;34m(self, req, fp, code, msg, hdrs)\u001b[0m\n\u001b[1;32m    642\u001b[0m \u001b[38;5;28;01mdef\u001b[39;00m \u001b[38;5;21mhttp_error_default\u001b[39m(\u001b[38;5;28mself\u001b[39m, req, fp, code, msg, hdrs):\n\u001b[0;32m--> 643\u001b[0m     \u001b[38;5;28;01mraise\u001b[39;00m HTTPError(req\u001b[38;5;241m.\u001b[39mfull_url, code, msg, hdrs, fp)\n",
      "\u001b[0;31mHTTPError\u001b[0m: HTTP Error 400: Bad Request",
      "\nDuring handling of the above exception, another exception occurred:\n",
      "\u001b[0;31mQueryBadFormed\u001b[0m                            Traceback (most recent call last)",
      "Cell \u001b[0;32mIn[12], line 3\u001b[0m\n\u001b[1;32m      1\u001b[0m \u001b[38;5;28;01mfrom\u001b[39;00m \u001b[38;5;21;01mlib\u001b[39;00m \u001b[38;5;28;01mimport\u001b[39;00m run_query\n\u001b[0;32m----> 3\u001b[0m result \u001b[38;5;241m=\u001b[39m \u001b[43mrun_query\u001b[49m\u001b[43m(\u001b[49m\u001b[43mquery_generation_response\u001b[49m\u001b[43m)\u001b[49m\n\u001b[1;32m      5\u001b[0m logger\u001b[38;5;241m.\u001b[39minfo(\u001b[38;5;124m\"\u001b[39m\u001b[38;5;124m=========== QUERY RESULT ============\u001b[39m\u001b[38;5;124m\"\u001b[39m)\n\u001b[1;32m      6\u001b[0m logger\u001b[38;5;241m.\u001b[39minfo(result)\n",
      "File \u001b[0;32m~/zazuko/llm-playground/playground/lib.py:16\u001b[0m, in \u001b[0;36mrun_query\u001b[0;34m(query, return_format)\u001b[0m\n\u001b[1;32m     14\u001b[0m sparql\u001b[38;5;241m.\u001b[39msetMethod(SPARQLWrapper\u001b[38;5;241m.\u001b[39mPOST)\n\u001b[1;32m     15\u001b[0m sparql\u001b[38;5;241m.\u001b[39msetQuery(query)\n\u001b[0;32m---> 16\u001b[0m \u001b[38;5;28;01mreturn\u001b[39;00m \u001b[43msparql\u001b[49m\u001b[38;5;241;43m.\u001b[39;49m\u001b[43mqueryAndConvert\u001b[49m\u001b[43m(\u001b[49m\u001b[43m)\u001b[49m\n",
      "File \u001b[0;32m~/zazuko/llm-playground/venv/lib/python3.10/site-packages/SPARQLWrapper/Wrapper.py:967\u001b[0m, in \u001b[0;36mSPARQLWrapper.queryAndConvert\u001b[0;34m(self)\u001b[0m\n\u001b[1;32m    962\u001b[0m \u001b[38;5;28;01mdef\u001b[39;00m \u001b[38;5;21mqueryAndConvert\u001b[39m(\u001b[38;5;28mself\u001b[39m) \u001b[38;5;241m-\u001b[39m\u001b[38;5;241m>\u001b[39m \u001b[38;5;124m\"\u001b[39m\u001b[38;5;124mQueryResult.ConvertResult\u001b[39m\u001b[38;5;124m\"\u001b[39m:\n\u001b[1;32m    963\u001b[0m \u001b[38;5;250m    \u001b[39m\u001b[38;5;124;03m\"\"\"Macro like method: issue a query and return the converted results.\u001b[39;00m\n\u001b[1;32m    964\u001b[0m \n\u001b[1;32m    965\u001b[0m \u001b[38;5;124;03m    :return: the converted query result. See the conversion methods for more details.\u001b[39;00m\n\u001b[1;32m    966\u001b[0m \u001b[38;5;124;03m    \"\"\"\u001b[39;00m\n\u001b[0;32m--> 967\u001b[0m     res \u001b[38;5;241m=\u001b[39m \u001b[38;5;28;43mself\u001b[39;49m\u001b[38;5;241;43m.\u001b[39;49m\u001b[43mquery\u001b[49m\u001b[43m(\u001b[49m\u001b[43m)\u001b[49m\n\u001b[1;32m    968\u001b[0m     \u001b[38;5;28;01mreturn\u001b[39;00m res\u001b[38;5;241m.\u001b[39mconvert()\n",
      "File \u001b[0;32m~/zazuko/llm-playground/venv/lib/python3.10/site-packages/SPARQLWrapper/Wrapper.py:960\u001b[0m, in \u001b[0;36mSPARQLWrapper.query\u001b[0;34m(self)\u001b[0m\n\u001b[1;32m    942\u001b[0m \u001b[38;5;28;01mdef\u001b[39;00m \u001b[38;5;21mquery\u001b[39m(\u001b[38;5;28mself\u001b[39m) \u001b[38;5;241m-\u001b[39m\u001b[38;5;241m>\u001b[39m \u001b[38;5;124m\"\u001b[39m\u001b[38;5;124mQueryResult\u001b[39m\u001b[38;5;124m\"\u001b[39m:\n\u001b[1;32m    943\u001b[0m \u001b[38;5;250m    \u001b[39m\u001b[38;5;124;03m\"\"\"\u001b[39;00m\n\u001b[1;32m    944\u001b[0m \u001b[38;5;124;03m    Execute the query.\u001b[39;00m\n\u001b[1;32m    945\u001b[0m \u001b[38;5;124;03m    Exceptions can be raised if either the URI is wrong or the HTTP sends back an error (this is also the\u001b[39;00m\n\u001b[0;32m   (...)\u001b[0m\n\u001b[1;32m    958\u001b[0m \u001b[38;5;124;03m    :rtype: :class:`QueryResult` instance\u001b[39;00m\n\u001b[1;32m    959\u001b[0m \u001b[38;5;124;03m    \"\"\"\u001b[39;00m\n\u001b[0;32m--> 960\u001b[0m     \u001b[38;5;28;01mreturn\u001b[39;00m QueryResult(\u001b[38;5;28;43mself\u001b[39;49m\u001b[38;5;241;43m.\u001b[39;49m\u001b[43m_query\u001b[49m\u001b[43m(\u001b[49m\u001b[43m)\u001b[49m)\n",
      "File \u001b[0;32m~/zazuko/llm-playground/venv/lib/python3.10/site-packages/SPARQLWrapper/Wrapper.py:930\u001b[0m, in \u001b[0;36mSPARQLWrapper._query\u001b[0;34m(self)\u001b[0m\n\u001b[1;32m    928\u001b[0m \u001b[38;5;28;01mexcept\u001b[39;00m urllib\u001b[38;5;241m.\u001b[39merror\u001b[38;5;241m.\u001b[39mHTTPError \u001b[38;5;28;01mas\u001b[39;00m e:\n\u001b[1;32m    929\u001b[0m     \u001b[38;5;28;01mif\u001b[39;00m e\u001b[38;5;241m.\u001b[39mcode \u001b[38;5;241m==\u001b[39m \u001b[38;5;241m400\u001b[39m:\n\u001b[0;32m--> 930\u001b[0m         \u001b[38;5;28;01mraise\u001b[39;00m QueryBadFormed(e\u001b[38;5;241m.\u001b[39mread())\n\u001b[1;32m    931\u001b[0m     \u001b[38;5;28;01melif\u001b[39;00m e\u001b[38;5;241m.\u001b[39mcode \u001b[38;5;241m==\u001b[39m \u001b[38;5;241m404\u001b[39m:\n\u001b[1;32m    932\u001b[0m         \u001b[38;5;28;01mraise\u001b[39;00m EndPointNotFound(e\u001b[38;5;241m.\u001b[39mread())\n",
      "\u001b[0;31mQueryBadFormed\u001b[0m: QueryBadFormed: A bad request has been sent to the endpoint: probably the SPARQL query is badly formed. \n\nResponse:\nb'{\"message\":\"com.complexible.stardog.plan.eval.ExecutionException: Invalid SPARQL query: Encountered \\\\\" \\\\\"max\\\\\" \\\\\"MAX \\\\\"\\\\\" at line 9, column 8.\\\\nWas expecting one of:\\\\n    \\\\\"(\\\\\" ...\\\\n    \\\\\"*\\\\\" ...\\\\n    \\\\\"reduced\\\\\" ...\\\\n    \\\\\"distinct\\\\\" ...\\\\n    <VAR1> ...\\\\n    <VAR2> ...\\\\n    \",\"code\":\"QE0PE2\",\"timestamp\":\"2025-01-16T08:53:33.571606Z\",\"stacktrace\":\"com.stardog.stark.query.QueryExecutionFailure: com.complexible.stardog.plan.eval.ExecutionException: Invalid SPARQL query: Encountered \\\\\" \\\\\"max\\\\\" \\\\\"MAX \\\\\"\\\\\" at line 9, column 8.\\\\nWas expecting one of:\\\\n    \\\\\"(\\\\\" ...\\\\n    \\\\\"*\\\\\" ...\\\\n    \\\\\"reduced\\\\\" ...\\\\n    \\\\\"distinct\\\\\" ...\\\\n    <VAR1> ...\\\\n    <VAR2> ...\\\\n    \\\\n\\\\tat com.stardog.stark.query.QueryExecutionFailure.forLoggedError(QueryExecutionFailure.java:46)\\\\n\\\\tat com.complexible.stardog.query.DefaultQueryFactory$SelectQuery.execute(DefaultQueryFactory.java:274)\\\\n\\\\tat com.complexible.stardog.query.DefaultQueryFactory$SelectQuery.execute(DefaultQueryFactory.java:257)\\\\n\\\\tat com.complexible.stardog.query.DelegatingQuery.execute(DelegatingQuery.java:68)\\\\n\\\\tat com.complexible.stardog.db.DatabaseImpl$TimerPausingReadQuery.execute(DatabaseImpl.java:1804)\\\\n\\\\tat com.complexible.stardog.db.DatabaseImpl$TimerPausingReadQuery.execute(DatabaseImpl.java:1791)\\\\n\\\\tat com.complexible.stardog.query.DelegatingQuery.execute(DelegatingQuery.java:60)\\\\n\\\\tat com.complexible.stardog.StardogKernel$SecuredReadQuery.execute(StardogKernel.java:4937)\\\\n\\\\tat com.complexible.stardog.StardogKernel$SecuredReadQuery.execute(StardogKernel.java:4924)\\\\n\\\\tat com.complexible.stardog.query.DelegatingQuery.execute(DelegatingQuery.java:60)\\\\n\\\\tat com.complexible.stardog.MonitoredQuery$MonitoredReadQuery.execute(MonitoredQuery.java:54)\\\\n\\\\tat com.complexible.stardog.MonitoredQuery$MonitoredReadQuery.execute(MonitoredQuery.java:36)\\\\n\\\\tat com.complexible.stardog.protocols.http.server.ProtocolUtils.executeReadQuery(ProtocolUtils.java:544)\\\\n\\\\tat com.complexible.stardog.protocols.http.server.ProtocolUtils.executeReadQuery(ProtocolUtils.java:517)\\\\n\\\\tat com.complexible.stardog.protocols.http.server.SPARQLProtocol.executeQuery(SPARQLProtocol.java:251)\\\\n\\\\tat com.complexible.stardog.protocols.http.server.SPARQLProtocol.getSparqlQuery(SPARQLProtocol.java:140)\\\\n\\\\tat com.stardog.http.server.undertow.jaxrs.ExtractRoutes.lambda$handleIt$5(ExtractRoutes.java:193)\\\\n\\\\tat org.apache.shiro.subject.support.SubjectRunnable.doRun(SubjectRunnable.java:120)\\\\n\\\\tat org.apache.shiro.subject.support.SubjectRunnable.run(SubjectRunnable.java:108)\\\\n\\\\tat java.base/java.util.concurrent.ThreadPoolExecutor.runWorker(ThreadPoolExecutor.java:1128)\\\\n\\\\tat java.base/java.util.concurrent.ThreadPoolExecutor$Worker.run(ThreadPoolExecutor.java:628)\\\\n\\\\tat java.base/java.lang.Thread.run(Thread.java:829)\\\\nCaused by: com.complexible.stardog.plan.eval.ExecutionException: Invalid SPARQL query: Encountered \\\\\" \\\\\"max\\\\\" \\\\\"MAX \\\\\"\\\\\" at line 9, column 8.\\\\nWas expecting one of:\\\\n    \\\\\"(\\\\\" ...\\\\n    \\\\\"*\\\\\" ...\\\\n    \\\\\"reduced\\\\\" ...\\\\n    \\\\\"distinct\\\\\" ...\\\\n    <VAR1> ...\\\\n    <VAR2> ...\\\\n    \\\\n\\\\tat com.complexible.stardog.plan.eval.QueryEngine.handleError(QueryEngine.java:326)\\\\n\\\\tat com.complexible.stardog.plan.eval.QueryEngine.handleError(QueryEngine.java:310)\\\\n\\\\tat com.complexible.stardog.plan.eval.QueryEngine.executePlan(QueryEngine.java:501)\\\\n\\\\tat com.complexible.stardog.plan.eval.QueryEngine.executePlan(QueryEngine.java:237)\\\\n\\\\tat com.complexible.stardog.plan.eval.QueryEngine.executePlan(QueryEngine.java:469)\\\\n\\\\tat com.complexible.stardog.plan.eval.QueryEngine.executeSelectPlan(QueryEngine.java:424)\\\\n\\\\tat com.complexible.stardog.plan.eval.QueryEngine.executeSelect(QueryEngine.java:407)\\\\n\\\\tat com.complexible.stardog.query.DefaultQueryFactory$SelectQuery.execute(DefaultQueryFactory.java:271)\\\\n\\\\t... 20 more\\\\nCaused by: com.complexible.stardog.plan.parser.QueryParseException: Invalid SPARQL query: Encountered \\\\\" \\\\\"max\\\\\" \\\\\"MAX \\\\\"\\\\\" at line 9, column 8.\\\\nWas expecting one of:\\\\n    \\\\\"(\\\\\" ...\\\\n    \\\\\"*\\\\\" ...\\\\n    \\\\\"reduced\\\\\" ...\\\\n    \\\\\"distinct\\\\\" ...\\\\n    <VAR1> ...\\\\n    <VAR2> ...\\\\n    \\\\n\\\\tat com.complexible.stardog.plan.parser.QueryParserImpl.parseQuery(QueryParserImpl.java:598)\\\\n\\\\tat com.complexible.stardog.plan.parser.QueryParserImpl.parseQuery(QueryParserImpl.java:554)\\\\n\\\\tat com.complexible.stardog.plan.PlanContext.planFor(PlanContext.java:137)\\\\n\\\\tat com.complexible.stardog.plan.eval.QueryEngine.planFor(QueryEngine.java:621)\\\\n\\\\tat com.complexible.stardog.plan.eval.QueryEngine.lambda$executeSelect$18(QueryEngine.java:407)\\\\n\\\\tat com.complexible.stardog.plan.eval.QueryEngine.getExecutablePlan(QueryEngine.java:746)\\\\n\\\\tat com.complexible.stardog.plan.eval.QueryEngine.executePlan(QueryEngine.java:495)\\\\n\\\\t... 25 more\\\\nCaused by: com.complexible.common.rdf.query.parser.sparql.ast.ParseException: Encountered \\\\\" \\\\\"max\\\\\" \\\\\"MAX \\\\\"\\\\\" at line 9, column 8.\\\\nWas expecting one of:\\\\n    \\\\\"(\\\\\" ...\\\\n    \\\\\"*\\\\\" ...\\\\n    \\\\\"reduced\\\\\" ...\\\\n    \\\\\"distinct\\\\\" ...\\\\n    <VAR1> ...\\\\n    <VAR2> ...\\\\n    \\\\n\\\\tat com.complexible.common.rdf.query.parser.sparql.ast.SyntaxTreeBuilder.generateParseException(SyntaxTreeBuilder.java:11275)\\\\n\\\\tat com.complexible.common.rdf.query.parser.sparql.ast.SyntaxTreeBuilder.jj_consume_token(SyntaxTreeBuilder.java:11128)\\\\n\\\\tat com.complexible.common.rdf.query.parser.sparql.ast.SyntaxTreeBuilder.Select(SyntaxTreeBuilder.java:913)\\\\n\\\\tat com.complexible.common.rdf.query.parser.sparql.ast.SyntaxTreeBuilder.SelectQuery(SyntaxTreeBuilder.java:766)\\\\n\\\\tat com.complexible.common.rdf.query.parser.sparql.ast.SyntaxTreeBuilder.Query(SyntaxTreeBuilder.java:445)\\\\n\\\\tat com.complexible.common.rdf.query.parser.sparql.ast.SyntaxTreeBuilder.QueryContainer(SyntaxTreeBuilder.java:217)\\\\n\\\\tat com.complexible.common.rdf.query.parser.sparql.ast.SyntaxTreeBuilder.parseQuery(SyntaxTreeBuilder.java:31)\\\\n\\\\tat com.complexible.stardog.plan.parser.QueryParserImpl.parseQuery(QueryParserImpl.java:559)\\\\n\\\\t... 31 more\\\\n\",\"stacktraceBinary\":\"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\"}'"
     ]
    }
   ],
   "source": [
    "from lib import run_query\n",
    "\n",
    "result = run_query(query_generation_response)\n",
    "\n",
    "logger.info(\"=========== QUERY RESULT ============\")\n",
    "logger.info(result)"
   ]
  }
 ],
 "metadata": {
  "kernelspec": {
   "display_name": "venv",
   "language": "python",
   "name": "python3"
  },
  "language_info": {
   "codemirror_mode": {
    "name": "ipython",
    "version": 3
   },
   "file_extension": ".py",
   "mimetype": "text/x-python",
   "name": "python",
   "nbconvert_exporter": "python",
   "pygments_lexer": "ipython3",
   "version": "3.10.6"
  },
  "orig_nbformat": 4
 },
 "nbformat": 4,
 "nbformat_minor": 2
}
