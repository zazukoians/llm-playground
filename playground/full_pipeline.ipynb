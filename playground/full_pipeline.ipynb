{
 "cells": [
  {
   "cell_type": "code",
   "execution_count": 1,
   "metadata": {},
   "outputs": [],
   "source": [
    "%load_ext autoreload\n",
    "%autoreload 2"
   ]
  },
  {
   "cell_type": "code",
   "execution_count": 2,
   "metadata": {},
   "outputs": [],
   "source": [
    "import os\n",
    "\n",
    "OPENAI_API_KEY = os.environ[\"OPENAI_API_KEY\"]"
   ]
  },
  {
   "cell_type": "code",
   "execution_count": 3,
   "metadata": {},
   "outputs": [],
   "source": [
    "from loguru import logger\n",
    "from langchain.callbacks import FileCallbackHandler\n",
    "from datetime import date\n",
    "\n",
    "today = date.today()\n",
    "\n",
    "logfile = f\"logs/full_pipeline_{today.year}_{today.month}_{today.day}.log\"\n",
    "logger.add(logfile, format=\"{message}\", colorize=False, enqueue=True)\n",
    "handler = FileCallbackHandler(logfile)"
   ]
  },
  {
   "cell_type": "code",
   "execution_count": null,
   "metadata": {},
   "outputs": [
    {
     "name": "stderr",
     "output_type": "stream",
     "text": [
      "WARNING! top_p is not default parameter.\n",
      "                    top_p was transferred to model_kwargs.\n",
      "                    Please confirm that top_p is what you intended.\n",
      "\u001b[32m2025-01-15 16:53:34.665\u001b[0m | \u001b[1mINFO    \u001b[0m | \u001b[36m__main__\u001b[0m:\u001b[36m<module>\u001b[0m:\u001b[36m21\u001b[0m - \u001b[1m========== CUBES RESPONSE ================\u001b[0m\n",
      "\u001b[32m2025-01-15 16:53:34.666\u001b[0m | \u001b[1mINFO    \u001b[0m | \u001b[36m__main__\u001b[0m:\u001b[36m<module>\u001b[0m:\u001b[36m22\u001b[0m - \u001b[1mThe cube ID that best answers the question \"what is the weather\" is:\n",
      "\n",
      "**None of the provided cubes directly address weather conditions.**\n",
      "\n",
      "Justification:\n",
      "The cubes listed primarily focus on environmental data related to forest conditions, pollution, greenhouse gas emissions, and other ecological metrics. While some cubes, such as \"Forest fire danger\" and \"Air pollution along the A2 and A13,\" may incorporate meteorological data to inform their assessments, they do not provide direct information about current weather conditions. \n",
      "\n",
      "If you are looking for a specific cube related to weather data, none of the cubes listed would be suitable as they do not explicitly cover weather metrics such as temperature, precipitation, humidity, or wind conditions.\u001b[0m\n"
     ]
    }
   ],
   "source": [
    "from lib import create_cube_selection_chain, fetch_cubes_descriptions, parse_all_cubes, fetch_cube_sample, fetch_dimensions_triplets, fetch_dimensions\n",
    "\n",
    "cube_selection_settings = {\n",
    "    \"temperature\": 0.5,\n",
    "    \"top_p\": 0.5\n",
    "}\n",
    "cubes = fetch_cubes_descriptions()\n",
    "dimensions = fetch_dimensions()\n",
    "cube_selection_chain = create_cube_selection_chain(api_key=OPENAI_API_KEY, handler=handler, **cube_selection_settings)\n",
    "\n",
    "# question = f\"sum of emission of CO2 for industry between year 2009 and 2011\"\n",
    "question = f\"what is the weather\"\n",
    "\n",
    "cube_selection_response = await cube_selection_chain.ainvoke({\n",
    "    \"cubes\": cubes,\n",
    "    \"dimensions\": dimensions,\n",
    "    \"question\": question,\n",
    "})\n",
    "cube_selection_response = cube_selection_response['text']\n",
    "\n",
    "logger.info(\"========== CUBES RESPONSE ================\")\n",
    "logger.info(f\"{cube_selection_response}\")"
   ]
  },
  {
   "cell_type": "code",
   "execution_count": 5,
   "metadata": {},
   "outputs": [
    {
     "data": {
      "text/plain": [
       "'@prefix schema: <http://schema.org/> .\\n@prefix qudt: <http://qudt.org/schema/qudt/> .\\n@prefix dct: <http://purl.org/dc/terms/> .\\n@prefix sh: <http://www.w3.org/ns/shacl#> .\\n@prefix rdf: <http://www.w3.org/1999/02/22-rdf-syntax-ns#> .\\n@prefix rdfs: <http://www.w3.org/2000/01/rdf-schema#> .\\n@prefix cube: <https://cube.link/> .\\n\\n<https://environment.ld.admin.ch/foen/gefahren-waldbrand-warnung/1> a cube:Cube ;\\n   schema:name \"Forest fire danger\"@en ;\\n   schema:description \"The FOEN\\'s forest fire danger warning contains the general daily forest fire danger based on meteorological data and the resulting forest fire indices.\"@en .\\n<https://environment.ld.admin.ch/foen/gefahren-waldbrand-praeventionsmassnahmen-kantone/1> a cube:Cube ;\\n   schema:name \"Forest fire prevention measures\"@en ;\\n   schema:description \"Contains the forest fire prevention measures currently in force in the cantons.\"@en .\\n<https://environment.ld.admin.ch/foen/nfi/nfi_T-changes/cube/2024-1> a cube:Cube ;\\n   schema:name \"NFI: Change\"@en ;\\n   schema:description \"The National Forest Inventory (NFI) is a periodic survey of condition and development of the Swiss forest. It is produced in close cooperation between the Federal Office for the Environment (FOEN) and the Swiss Federal Institute for Forest, Snow and Landscape Research (WSL). This record contains information about: increment (gross increment), increment (gross increment) per forest area, fellings and mortality, fellings and mortality per forest area, fellings, fellings per forest area, mortality, mortality per forest area, net increment and net increment per forest area\"@en .\\n<https://environment.ld.admin.ch/foen/ubd003701/5> a cube:Cube ;\\n   schema:name \"Traffic noise pollution\"@en ;\\n   schema:description \"Percentage of the population, flats and buildings exposed to road, rail and air traffic noise during the day and night. The data is based on area-wide model calculations (sonBASE).\"@en .\\n<https://environment.ld.admin.ch/foen/ubd010701/8> a cube:Cube ;\\n   schema:name \"Air pollution along the A2 and A13 - annual averages - NO and NO2\"@en ;\\n   schema:description \"The project \\\\\"Monitoring flankierende Massnahmen Umwelt\\\\\" (MFM-U) measures air and noise pollution along the A2 and A13 transit axes. This is intended to show the environmental impact of freight traffic on the north-south axes. In this way, the implementation of the Transfer of Traffic Act and the effectiveness of the accompanying measures within the framework of the federal government\\'s transfer policy are examined in the area of the environment.\"@en .\\n<https://environment.ld.admin.ch/foen/ubd01041prod/4> a cube:Cube ;\\n   schema:name \"Bathing water quality\"@en ;\\n   schema:description \"The assessment of bathing waters is made on the basis of hygienic quality using E.coli and intestinal enterococci. They provide indications on the effectiveness of water protection measures and in particular the extent to which waste water treatment plants are fulfilling their function.\"@en .\\n<https://environment.ld.admin.ch/foen/ubd000502/5> a cube:Cube ;\\n   schema:name \"Greenhouse gas emissions by sector and by gas\"@en ;\\n   schema:description \"Evolution of Switzerland’s greenhouse gas emissions since 1990 in the sectors in accordance with the CO2 Ordinance and broken down by gas. The greenhouse gas emissions from international aviation and navigation as well as the greenhouse gas balance from land use (soil, vegetation) are shown separately.\"@en .\\n<https://environment.ld.admin.ch/foen/ubd000503/8> a cube:Cube ;\\n   schema:name \"Shares of greenhouse gas emissions from motor fuels in the Transport sector\"@en ;\\n   schema:description \"Evolution of shares in greenhouse gas emissions in the Transport sector from diesel, gasoline, kerosene (national aviation only, civil and military flights) and gas.\"@en .\\n<https://environment.ld.admin.ch/foen/nfi/nfi_C-1029/cube/2024-1> a cube:Cube ;\\n   schema:name \"NFI: Topics by diameter at breast height (main diameter classes)\"@en ;\\n   schema:description \"The National Forest Inventory (NFI) is a periodic survey of condition and development of the Swiss forest. It is produced in close cooperation between the Federal Office for the Environment (FOEN) and the Swiss Federal Institute for Forest, Snow and Landscape Research (WSL). This record contains information about: growing stock (stemwood), growing stock (stemwood) per forest area, number of stems, number of stems per forest area and basal area per forest area\"@en .\\n<https://environment.ld.admin.ch/foen/nfi/nfi_C-1030/cube/2024-1> a cube:Cube ;\\n   schema:name \"NFI: Topics by diameter at breast height (in 4 cm classes)\"@en ;\\n   schema:description \"The National Forest Inventory (NFI) is a periodic survey of condition and development of the Swiss forest. It is produced in close cooperation between the Federal Office for the Environment (FOEN) and the Swiss Federal Institute for Forest, Snow and Landscape Research (WSL). This record contains information about: number of stems and number of stems per forest area\"@en .\\n<https://environment.ld.admin.ch/foen/nfi/nfi_C-1034/cube/2024-1> a cube:Cube ;\\n   schema:name \"NFI: Topics by aspect (9 classes)\"@en ;\\n   schema:description \"The National Forest Inventory (NFI) is a periodic survey of condition and development of the Swiss forest. It is produced in close cooperation between the Federal Office for the Environment (FOEN) and the Swiss Federal Institute for Forest, Snow and Landscape Research (WSL). This record contains information about: growing stock (stemwood), growing stock (stemwood) per forest area, forest area and basal area per forest area\"@en .\\n<https://environment.ld.admin.ch/foen/nfi/nfi_C-1157/cube/2024-1> a cube:Cube ;\\n   schema:name \"NFI: Topics by tree species (5 classes)\"@en ;\\n   schema:description \"The National Forest Inventory (NFI) is a periodic survey of condition and development of the Swiss forest. It is produced in close cooperation between the Federal Office for the Environment (FOEN) and the Swiss Federal Institute for Forest, Snow and Landscape Research (WSL). This record contains information about: growing stock (stemwood), growing stock (stemwood) per forest area, total wood volume (stemwood), total wood volume (stemwood) per forest area, volume of deadwood (stemwood), volume of deadwood (stemwood) per forest area, total basal area per forest area, total number of stems, total number of stems per forest area, number of stems, number of stems per forest area and basal area per forest area\"@en .\\n<https://environment.ld.admin.ch/foen/nfi/nfi_C-1265/cube/2024-1> a cube:Cube ;\\n   schema:name \"NFI: Topics by tree state (living/dead)\"@en ;\\n   schema:description \"The National Forest Inventory (NFI) is a periodic survey of condition and development of the Swiss forest. It is produced in close cooperation between the Federal Office for the Environment (FOEN) and the Swiss Federal Institute for Forest, Snow and Landscape Research (WSL). This record contains information about: total wood volume (stemwood), total wood volume (stemwood) per forest area, total number of stems and total number of stems per forest area\"@en .\\n<https://environment.ld.admin.ch/foen/nfi/nfi_C-1266/cube/2024-1> a cube:Cube ;\\n   schema:name \"NFI: Topics by tree state (standing/lying)\"@en ;\\n   schema:description \"The National Forest Inventory (NFI) is a periodic survey of condition and development of the Swiss forest. It is produced in close cooperation between the Federal Office for the Environment (FOEN) and the Swiss Federal Institute for Forest, Snow and Landscape Research (WSL). This record contains information about: basal area of deadwood per forest area, volume of deadwood (stemwood) and volume of deadwood (stemwood) per forest area\"@en .\\n<https://environment.ld.admin.ch/foen/nfi/nfi_C-1282/cube/2024-1> a cube:Cube ;\\n   schema:name \"NFI: Topics by giant (yes/no)\"@en ;\\n   schema:description \"The National Forest Inventory (NFI) is a periodic survey of condition and development of the Swiss forest. It is produced in close cooperation between the Federal Office for the Environment (FOEN) and the Swiss Federal Institute for Forest, Snow and Landscape Research (WSL). This record contains information about: total number of stems, total number of stems per forest area, number of stems and number of stems per forest area\"@en .\\n<https://environment.ld.admin.ch/foen/nfi/nfi_C-1310/cube/2024-1> a cube:Cube ;\\n   schema:name \"NFI: Topics by extent of damage gaps (10 classes)\"@en ;\\n   schema:description \"The National Forest Inventory (NFI) is a periodic survey of condition and development of the Swiss forest. It is produced in close cooperation between the Federal Office for the Environment (FOEN) and the Swiss Federal Institute for Forest, Snow and Landscape Research (WSL). This record contains information about: basal area of deadwood per forest area, volume of deadwood (stemwood) and volume of deadwood (stemwood) per forest area\"@en .\\n<https://environment.ld.admin.ch/foen/nfi/nfi_C-1316/cube/2024-1> a cube:Cube ;\\n   schema:name \"NFI: Topics by dominant diameter at breast height (standing-living - in 8 classes)\"@en ;\\n   schema:description \"The National Forest Inventory (NFI) is a periodic survey of condition and development of the Swiss forest. It is produced in close cooperation between the Federal Office for the Environment (FOEN) and the Swiss Federal Institute for Forest, Snow and Landscape Research (WSL). This record contains information about: forest area and basal area per forest area\"@en .\\n<https://environment.ld.admin.ch/foen/nfi/nfi_C-1317/cube/2024-1> a cube:Cube ;\\n   schema:name \"NFI: Topics by diameter at breast height (10 classes)\"@en ;\\n   schema:description \"The National Forest Inventory (NFI) is a periodic survey of condition and development of the Swiss forest. It is produced in close cooperation between the Federal Office for the Environment (FOEN) and the Swiss Federal Institute for Forest, Snow and Landscape Research (WSL). This record contains information about: growing stock (stemwood), growing stock (stemwood) per forest area, volume of deadwood (stemwood), volume of deadwood (stemwood) per forest area, number of stems and number of stems per forest area\"@en .\\n<https://environment.ld.admin.ch/foen/nfi/nfi_C-1335/cube/2024-1> a cube:Cube ;\\n   schema:name \"NFI: Topics by length of lying dead tree (6 classes)\"@en ;\\n   schema:description \"The National Forest Inventory (NFI) is a periodic survey of condition and development of the Swiss forest. It is produced in close cooperation between the Federal Office for the Environment (FOEN) and the Swiss Federal Institute for Forest, Snow and Landscape Research (WSL). This record contains information about: number of deadwood stems and number of deadwood stems per forest area\"@en .\\n<https://environment.ld.admin.ch/foen/nfi/nfi_C-1805/cube/2024-1> a cube:Cube ;\\n   schema:name \"NFI: Topics by stem height of broken snags (6 classes)\"@en ;\\n   schema:description \"The National Forest Inventory (NFI) is a periodic survey of condition and development of the Swiss forest. It is produced in close cooperation between the Federal Office for the Environment (FOEN) and the Swiss Federal Institute for Forest, Snow and Landscape Research (WSL). This record contains information about: number of deadwood stems and number of deadwood stems per forest area\"@en .\\n<https://environment.ld.admin.ch/foen/nfi/nfi_C-20/cube/2024-1> a cube:Cube ;\\n   schema:name \"NFI: Topics by development stage\"@en ;\\n   schema:description \"The National Forest Inventory (NFI) is a periodic survey of condition and development of the Swiss forest. It is produced in close cooperation between the Federal Office for the Environment (FOEN) and the Swiss Federal Institute for Forest, Snow and Landscape Research (WSL). This record contains information about: number of woody species (≥40 cm high), growing stock (stemwood), deadwood quantity, deadwood quantity per forest area, deadwood volume (merch. wood without piles of branches), lying, deadwood volume (merch. wood without piles of branches), lying per forest area, growing stock (stemwood) per forest area, volume of deadwood (stemwood), volume of deadwood (stemwood) per forest area, diversity of woody species, deadwood volume (merchantable wood), lying, deadwood volume (merchantable wood), lying per forest area, forest area, number of stems, number of stems per forest area and basal area per forest area\"@en .\\n<https://environment.ld.admin.ch/foen/nfi/nfi_C-2171/cube/2024-1> a cube:Cube ;\\n   schema:name \"NFI: Topics by tree age (in 40-year classes)\"@en ;\\n   schema:description \"The National Forest Inventory (NFI) is a periodic survey of condition and development of the Swiss forest. It is produced in close cooperation between the Federal Office for the Environment (FOEN) and the Swiss Federal Institute for Forest, Snow and Landscape Research (WSL). This record contains information about: number of stems and number of stems per forest area\"@en .\\n<https://environment.ld.admin.ch/foen/nfi/nfi_C-2207/cube/2024-1> a cube:Cube ;\\n   schema:name \"NFI: Topics by tree species (56 classes)\"@en ;\\n   schema:description \"The National Forest Inventory (NFI) is a periodic survey of condition and development of the Swiss forest. It is produced in close cooperation between the Federal Office for the Environment (FOEN) and the Swiss Federal Institute for Forest, Snow and Landscape Research (WSL). This record contains information about: growing stock (stemwood), growing stock (stemwood) per forest area, number of stems, number of stems per forest area and basal area per forest area\"@en .\\n<https://environment.ld.admin.ch/foen/nfi/nfi_C-22/cube/2024-1> a cube:Cube ;\\n   schema:name \"NFI: Topics by degree of mixture (terrestrial)\"@en ;\\n   schema:description \"The National Forest Inventory (NFI) is a periodic survey of condition and development of the Swiss forest. It is produced in close cooperation between the Federal Office for the Environment (FOEN) and the Swiss Federal Institute for Forest, Snow and Landscape Research (WSL). This record contains information about: number of woody species (≥40 cm high), growing stock (stemwood), deadwood volume (merch. wood without piles of branches), lying, deadwood volume (merch. wood without piles of branches), lying per forest area, growing stock (stemwood) per forest area, volume of deadwood (stemwood), volume of deadwood (stemwood) per forest area, diversity of woody species, deadwood volume (merchantable wood), lying, deadwood volume (merchantable wood), lying per forest area and forest area\"@en .\\n<https://environment.ld.admin.ch/foen/nfi/nfi_C-2599/cube/2024-1> a cube:Cube ;\\n   schema:name \"NFI: Topics by introduced tree species (tree neophytes; 3 classes; from NFI1 on)\"@en ;\\n   schema:description \"The National Forest Inventory (NFI) is a periodic survey of condition and development of the Swiss forest. It is produced in close cooperation between the Federal Office for the Environment (FOEN) and the Swiss Federal Institute for Forest, Snow and Landscape Research (WSL). This record contains information about: number of stems and number of stems per forest area\"@en .\\n<https://environment.ld.admin.ch/foen/nfi/nfi_C-2630/cube/2024-1> a cube:Cube ;\\n   schema:name \"NFI: Topics by introduced tree species (tree neophytes; 8 classes)\"@en ;\\n   schema:description \"The National Forest Inventory (NFI) is a periodic survey of condition and development of the Swiss forest. It is produced in close cooperation between the Federal Office for the Environment (FOEN) and the Swiss Federal Institute for Forest, Snow and Landscape Research (WSL). This record contains information about: number of stems and number of stems per forest area\"@en .\\n<https://environment.ld.admin.ch/foen/nfi/nfi_C-2632/cube/2024-1> a cube:Cube ;\\n   schema:name \"NFI: Topics by altitudinal vegetation belts (NaiS; 10 classes)\"@en ;\\n   schema:description \"The National Forest Inventory (NFI) is a periodic survey of condition and development of the Swiss forest. It is produced in close cooperation between the Federal Office for the Environment (FOEN) and the Swiss Federal Institute for Forest, Snow and Landscape Research (WSL). This record contains information about: number of woody species (≥40 cm high), basal area of deadwood per forest area, growing stock (stemwood), deadwood quantity, deadwood quantity per forest area, deadwood volume (merch. wood without piles of branches), lying, deadwood volume (merch. wood without piles of branches), lying per forest area, growing stock (stemwood) per forest area, total wood volume (stemwood), total wood volume (stemwood) per forest area, volume of deadwood (stemwood), volume of deadwood (stemwood) per forest area, stand density index (SDI), total basal area per forest area, total number of stems, diversity of woody species, deadwood volume of stumps, deadwood volume of stumps per forest area, biomass of stumps, biomass of stumps per forest area, total number of stems per forest area, number of microhabitats on standing living trees per forest area, deadwood volume (merchantable wood), lying, deadwood volume (merchantable wood), lying per forest area, forest area, number of stems, number of stems per forest area and basal area per forest area\"@en .\\n<https://environment.ld.admin.ch/foen/nfi/nfi_C-2633/cube/2024-1> a cube:Cube ;\\n   schema:name \"NFI: Topics by altitudinal vegetation belts (NaiS; 6 classes)\"@en ;\\n   schema:description \"The National Forest Inventory (NFI) is a periodic survey of condition and development of the Swiss forest. It is produced in close cooperation between the Federal Office for the Environment (FOEN) and the Swiss Federal Institute for Forest, Snow and Landscape Research (WSL). This record contains information about: sample size (number of forest plots), number of woody species (≥40 cm high), basal area of deadwood per forest area, growing stock (stemwood), deadwood quantity, deadwood quantity per forest area, deadwood volume (merch. wood without piles of branches), lying, deadwood volume (merch. wood without piles of branches), lying per forest area, growing stock (stemwood) per forest area, total wood volume (stemwood), total wood volume (stemwood) per forest area, volume of deadwood (stemwood), volume of deadwood (stemwood) per forest area, stand density index (SDI), total basal area per forest area, total number of stems, diversity of woody species, deadwood volume of stumps, deadwood volume of stumps per forest area, biomass of stumps, biomass of stumps per forest area, total number of stems per forest area, number of microhabitats on standing living trees per forest area, deadwood volume (merchantable wood), lying, deadwood volume (merchantable wood), lying per forest area, forest area, number of stems, number of stems per forest area and basal area per forest area\"@en .\\n<https://environment.ld.admin.ch/foen/nfi/nfi_C-2635/cube/2024-1> a cube:Cube ;\\n   schema:name \"NFI: Topics by higher/lower altitude zone\"@en ;\\n   schema:description \"The National Forest Inventory (NFI) is a periodic survey of condition and development of the Swiss forest. It is produced in close cooperation between the Federal Office for the Environment (FOEN) and the Swiss Federal Institute for Forest, Snow and Landscape Research (WSL). This record contains information about: sample size (number of forest plots), growing stock (stemwood), deadwood quantity, deadwood quantity per forest area, deadwood volume (merch. wood without piles of branches), lying, deadwood volume (merch. wood without piles of branches), lying per forest area, growing stock (stemwood) per forest area, total wood volume (stemwood), total wood volume (stemwood) per forest area, volume of deadwood (stemwood), volume of deadwood (stemwood) per forest area, total basal area per forest area, total number of stems, area of vehicle tracks (soil disturbance), area of vehicle tracks (soil disturbance) per forest area, deadwood volume of stumps, deadwood volume of stumps per forest area, biomass of stumps, biomass of stumps per forest area, total number of stems per forest area, number of microhabitats on standing living trees per forest area, deadwood volume (merchantable wood), lying, deadwood volume (merchantable wood), lying per forest area, forest area, number of stems, number of stems per forest area and basal area per forest area\"@en .\\n<https://environment.ld.admin.ch/foen/nfi/nfi_C-2637/cube/2024-1> a cube:Cube ;\\n   schema:name \"NFI: Topics by forest formations (NaiS; 10 classes)\"@en ;\\n   schema:description \"The National Forest Inventory (NFI) is a periodic survey of condition and development of the Swiss forest. It is produced in close cooperation between the Federal Office for the Environment (FOEN) and the Swiss Federal Institute for Forest, Snow and Landscape Research (WSL). This record contains information about: number of woody species (≥40 cm high) and forest area\"@en .\\n<https://environment.ld.admin.ch/foen/nfi/nfi_C-501/cube/2024-1> a cube:Cube ;\\n   schema:name \"NFI: Topics by forest type (17 classes)\"@en ;\\n   schema:description \"The National Forest Inventory (NFI) is a periodic survey of condition and development of the Swiss forest. It is produced in close cooperation between the Federal Office for the Environment (FOEN) and the Swiss Federal Institute for Forest, Snow and Landscape Research (WSL). This record contains information about: growing stock (stemwood), growing stock (stemwood) per forest area, forest area, number of stems, number of stems per forest area and basal area per forest area\"@en .\\n<https://environment.ld.admin.ch/foen/nfi/nfi_C-593/cube/2024-1> a cube:Cube ;\\n   schema:name \"NFI: Topics by degree of damage\"@en ;\\n   schema:description \"The National Forest Inventory (NFI) is a periodic survey of condition and development of the Swiss forest. It is produced in close cooperation between the Federal Office for the Environment (FOEN) and the Swiss Federal Institute for Forest, Snow and Landscape Research (WSL). This record contains information about: total number of stems and total number of stems per forest area\"@en .\\n<https://environment.ld.admin.ch/foen/nfi/nfi_C-653/cube/2024-1> a cube:Cube ;\\n   schema:name \"NFI: Topics by number of cases of damage\"@en ;\\n   schema:description \"The National Forest Inventory (NFI) is a periodic survey of condition and development of the Swiss forest. It is produced in close cooperation between the Federal Office for the Environment (FOEN) and the Swiss Federal Institute for Forest, Snow and Landscape Research (WSL). This record contains information about: total number of stems, total number of stems per forest area, number of stems and number of stems per forest area\"@en .\\n<https://environment.ld.admin.ch/foen/nfi/nfi_C-711/cube/2024-1> a cube:Cube ;\\n   schema:name \"NFI: Topics by time of last treatment (in 5- or 10-year classes)\"@en ;\\n   schema:description \"The National Forest Inventory (NFI) is a periodic survey of condition and development of the Swiss forest. It is produced in close cooperation between the Federal Office for the Environment (FOEN) and the Swiss Federal Institute for Forest, Snow and Landscape Research (WSL). This record contains information about: volume of deadwood (stemwood) and volume of deadwood (stemwood) per forest area\"@en .\\n<https://environment.ld.admin.ch/foen/nfi/nfi_C-894/cube/2024-1> a cube:Cube ;\\n   schema:name \"NFI: Topics by site quality\"@en ;\\n   schema:description \"The National Forest Inventory (NFI) is a periodic survey of condition and development of the Swiss forest. It is produced in close cooperation between the Federal Office for the Environment (FOEN) and the Swiss Federal Institute for Forest, Snow and Landscape Research (WSL). This record contains information about: growing stock (stemwood), growing stock (stemwood) per forest area, forest area and basal area per forest area\"@en .\\n<https://environment.ld.admin.ch/foen/nfi/nfi_C-898/cube/2024-1> a cube:Cube ;\\n   schema:name \"NFI: Topics by forest type (12 classes)\"@en ;\\n   schema:description \"The National Forest Inventory (NFI) is a periodic survey of condition and development of the Swiss forest. It is produced in close cooperation between the Federal Office for the Environment (FOEN) and the Swiss Federal Institute for Forest, Snow and Landscape Research (WSL). This record contains information about: growing stock (stemwood), deadwood quantity, deadwood quantity per forest area, growing stock (stemwood) per forest area, deadwood volume of stumps, deadwood volume of stumps per forest area, biomass of stumps, biomass of stumps per forest area, forest area, number of stems, number of stems per forest area and basal area per forest area\"@en .\\n<https://environment.ld.admin.ch/foen/nfi/nfi_C-90/cube/2024-1> a cube:Cube ;\\n   schema:name \"NFI: Topics by main tree species\"@en ;\\n   schema:description \"The National Forest Inventory (NFI) is a periodic survey of condition and development of the Swiss forest. It is produced in close cooperation between the Federal Office for the Environment (FOEN) and the Swiss Federal Institute for Forest, Snow and Landscape Research (WSL). This record contains information about: number of deadwood stems, number of deadwood stems per forest area, basal area of deadwood per forest area, biomass of living trees, biomass of living trees per forest area, growing stock (stemwood), growing stock (stemwood) per forest area, total wood volume (stemwood), total wood volume (stemwood) per forest area, volume of deadwood (stemwood), volume of deadwood (stemwood) per forest area, total basal area per forest area, total number of stems, total number of stems per forest area, number of stems, number of stems per forest area and basal area per forest area\"@en .\\n<https://environment.ld.admin.ch/foen/nfi/nfi_C-94/cube/2024-1> a cube:Cube ;\\n   schema:name \"NFI: Topics by ownership (2 categories)\"@en ;\\n   schema:description \"The National Forest Inventory (NFI) is a periodic survey of condition and development of the Swiss forest. It is produced in close cooperation between the Federal Office for the Environment (FOEN) and the Swiss Federal Institute for Forest, Snow and Landscape Research (WSL). This record contains information about: sample size (number of forest plots), basal area of deadwood per forest area, growing stock (stemwood), deadwood quantity, deadwood quantity per forest area, deadwood volume (merch. wood without piles of branches), lying, deadwood volume (merch. wood without piles of branches), lying per forest area, growing stock (stemwood) per forest area, total wood volume (stemwood), total wood volume (stemwood) per forest area, volume of deadwood (stemwood), volume of deadwood (stemwood) per forest area, total basal area per forest area, total number of stems, area of vehicle tracks (soil disturbance), area of vehicle tracks (soil disturbance) per forest area, deadwood volume of stumps, deadwood volume of stumps per forest area, biomass of stumps, biomass of stumps per forest area, total number of stems per forest area, number of microhabitats on standing living trees per forest area, deadwood volume (merchantable wood), lying, deadwood volume (merchantable wood), lying per forest area, forest area, biomass of deadwood, biomass of deadwood per forest area, biomass of LIS-deadwood, biomass of LIS-deadwood per forest area, number of stems, number of stems per forest area and basal area per forest area\"@en .\\n<https://environment.ld.admin.ch/foen/nfi/nfi_C-96/cube/2024-1> a cube:Cube ;\\n   schema:name \"NFI: Topics by conifers and broadleaves\"@en ;\\n   schema:description \"The National Forest Inventory (NFI) is a periodic survey of condition and development of the Swiss forest. It is produced in close cooperation between the Federal Office for the Environment (FOEN) and the Swiss Federal Institute for Forest, Snow and Landscape Research (WSL). This record contains information about: number of deadwood stems, number of deadwood stems per forest area, basal area of deadwood per forest area, biomass of living trees, biomass of living trees per forest area, biomass of living trees, aboveground, biomass of living trees, aboveground per forest area, growing stock (stemwood), root mass of living trees, root mass of living trees per forest area, growing stock (stemwood) per forest area, total wood volume (stemwood), total wood volume (stemwood) per forest area, volume of deadwood (stemwood), volume of deadwood (stemwood) per forest area, total basal area per forest area, total number of stems, total number of stems per forest area, mass of merchantable branchwood from living trees, mass of merchantable branchwood from living trees per forest area, branch brushwood mass of living trees, branch brushwood mass of living trees per forest area, mass of needles/ leaves of living trees, mass of needles/ leaves of living trees per forest area, stemwood mass of living trees, stemwood mass of living trees per forest area, biomass of standing dead trees, biomass of standing dead trees per forest area, biomass of lying dead trees, biomass of lying dead trees per forest area, number of stems, number of stems per forest area and basal area per forest area\"@en .\\n<https://environment.ld.admin.ch/foen/nfi/nfi_C-98/cube/2024-1> a cube:Cube ;\\n   schema:name \"NFI: Topics by tree condition\"@en ;\\n   schema:description \"The National Forest Inventory (NFI) is a periodic survey of condition and development of the Swiss forest. It is produced in close cooperation between the Federal Office for the Environment (FOEN) and the Swiss Federal Institute for Forest, Snow and Landscape Research (WSL). This record contains information about: total wood volume (stemwood), total wood volume (stemwood) per forest area, total number of stems and total number of stems per forest area\"@en .\\n<https://environment.ld.admin.ch/foen/ubd000504/8> a cube:Cube ;\\n   schema:name \"CO2 emissions from thermal fuels (corrected for weather conditions) and motor fuels\"@en ;\\n   schema:description \"Evolution of CO2 emissions from thermal and motor fuels. The CO2 emissions from thermal fuels are corrected for weather conditions (the correction for weather conditions takes into account outside temperature and insolation).\"@en .\\n<https://environment.ld.admin.ch/foen/ubd006601/3> a cube:Cube ;\\n   schema:name \"Heavy Metal Soil Contamination\"@en ;\\n   schema:description \"The measurement data are the surveyed mean values of heavy metal concentrations recorded in the top 20 cm of the soil in around 100 permanent monitoring sites operated by the Swiss National Soil Monitoring Network (NABO).\"@en .\\n<https://environment.ld.admin.ch/foen/ubd003001/7> a cube:Cube ;\\n   schema:name \"Red List\"@en ;\\n   schema:description \"Red lists are scientific expert reports that assess the degree of threat to native species. In Switzerland, these lists are drawn up by specialists commissioned by the FOEN. They exist for 33 species groups.\"@en .'"
      ]
     },
     "execution_count": 5,
     "metadata": {},
     "output_type": "execute_result"
    }
   ],
   "source": [
    "cubes"
   ]
  },
  {
   "cell_type": "code",
   "execution_count": 6,
   "metadata": {},
   "outputs": [
    {
     "ename": "IndexError",
     "evalue": "list index out of range",
     "output_type": "error",
     "traceback": [
      "\u001b[0;31m---------------------------------------------------------------------------\u001b[0m",
      "\u001b[0;31mIndexError\u001b[0m                                Traceback (most recent call last)",
      "Cell \u001b[0;32mIn[6], line 2\u001b[0m\n\u001b[1;32m      1\u001b[0m selected_cubes \u001b[38;5;241m=\u001b[39m parse_all_cubes(cube_selection_response)\n\u001b[0;32m----> 2\u001b[0m selected_cube \u001b[38;5;241m=\u001b[39m \u001b[43mselected_cubes\u001b[49m\u001b[43m[\u001b[49m\u001b[38;5;241;43m0\u001b[39;49m\u001b[43m]\u001b[49m\n\u001b[1;32m      4\u001b[0m logger\u001b[38;5;241m.\u001b[39minfo(\u001b[38;5;124m\"\u001b[39m\u001b[38;5;124m========== SELECTED FIRST CUBE ================\u001b[39m\u001b[38;5;124m\"\u001b[39m)\n\u001b[1;32m      5\u001b[0m logger\u001b[38;5;241m.\u001b[39minfo(selected_cube)\n",
      "\u001b[0;31mIndexError\u001b[0m: list index out of range"
     ]
    }
   ],
   "source": [
    "selected_cubes = parse_all_cubes(cube_selection_response)\n",
    "selected_cube = selected_cubes[0]\n",
    "\n",
    "logger.info(\"========== SELECTED FIRST CUBE ================\")\n",
    "logger.info(selected_cube)"
   ]
  },
  {
   "cell_type": "code",
   "execution_count": 13,
   "metadata": {},
   "outputs": [],
   "source": [
    "cube_and_sample = fetch_cube_sample(selected_cube)\n",
    "\n",
    "# print(cube_and_sample)"
   ]
  },
  {
   "cell_type": "code",
   "execution_count": 14,
   "metadata": {},
   "outputs": [],
   "source": [
    "dimensions_triplets = fetch_dimensions_triplets(selected_cube)\n",
    "\n",
    "# print(dimensions_triplets)"
   ]
  },
  {
   "cell_type": "code",
   "execution_count": 15,
   "metadata": {},
   "outputs": [
    {
     "name": "stderr",
     "output_type": "stream",
     "text": [
      "WARNING! top_p is not default parameter.\n",
      "                    top_p was transferred to model_kwargs.\n",
      "                    Please confirm that top_p is what you intended.\n",
      "\u001b[32m2025-01-15 16:52:25.760\u001b[0m | \u001b[1mINFO    \u001b[0m | \u001b[36m__main__\u001b[0m:\u001b[36m<module>\u001b[0m:\u001b[36m18\u001b[0m - \u001b[1m========== QUERY GENERATION RESPONSE ================\u001b[0m\n",
      "\u001b[32m2025-01-15 16:52:25.761\u001b[0m | \u001b[1mINFO    \u001b[0m | \u001b[36m__main__\u001b[0m:\u001b[36m<module>\u001b[0m:\u001b[36m19\u001b[0m - \u001b[1mPREFIX cube: <https://cube.link/>\n",
      "PREFIX schema: <http://schema.org/>\n",
      "PREFIX qudt: <http://qudt.org/schema/qudt/>\n",
      "PREFIX sh: <http://www.w3.org/ns/shacl#>\n",
      "PREFIX rdf: <http://www.w3.org/1999/02/22-rdf-syntax-ns#>\n",
      "PREFIX rdfs: <http://www.w3.org/2000/01/rdf-schema#>\n",
      "PREFIX xsd: <http://www.w3.org/2001/XMLSchema#>\n",
      "\n",
      "SELECT (AVG(?emission) AS ?averageEmission)\n",
      "WHERE {\n",
      "    <https://environment.ld.admin.ch/foen/ubd000503/8> a cube:Cube;\n",
      "        cube:observationSet ?observationSet.\n",
      "\n",
      "    ?observationSet a cube:ObservationSet;\n",
      "        cube:observation ?observation.\n",
      "\n",
      "    ?observation a cube:Observation;\n",
      "        <https://environment.ld.admin.ch/foen/ubd000503/jahr> ?year;\n",
      "        <https://environment.ld.admin.ch/foen/ubd000503/werte> ?emission.\n",
      "\n",
      "    FILTER(?year >= \"2005\"^^xsd:gYear && ?year <= \"2007\"^^xsd:gYear)\n",
      "}\u001b[0m\n"
     ]
    }
   ],
   "source": [
    "from lib import create_query_generation_chain\n",
    "\n",
    "query_generation_settings = {\n",
    "    \"temperature\": 0.2,\n",
    "    \"top_p\": 0.1\n",
    "}\n",
    "\n",
    "generation_chain = create_query_generation_chain(api_key=OPENAI_API_KEY, handler=handler, **query_generation_settings)\n",
    "\n",
    "query_generation_response = await generation_chain.ainvoke({\n",
    "    \"cube_and_sample\": cube_and_sample,\n",
    "    \"dimensions_triplets\": dimensions_triplets,\n",
    "    \"cube\": selected_cube,\n",
    "    \"question\": question,\n",
    "})\n",
    "query_generation_response = query_generation_response['text']\n",
    "\n",
    "logger.info(\"========== QUERY GENERATION RESPONSE ================\")\n",
    "logger.info(f\"{query_generation_response}\")"
   ]
  },
  {
   "cell_type": "code",
   "execution_count": 16,
   "metadata": {},
   "outputs": [
    {
     "name": "stderr",
     "output_type": "stream",
     "text": [
      "\u001b[32m2025-01-15 16:52:26.009\u001b[0m | \u001b[1mINFO    \u001b[0m | \u001b[36m__main__\u001b[0m:\u001b[36m<module>\u001b[0m:\u001b[36m5\u001b[0m - \u001b[1m=========== QUERY RESULT ============\u001b[0m\n",
      "\u001b[32m2025-01-15 16:52:26.012\u001b[0m | \u001b[1mINFO    \u001b[0m | \u001b[36m__main__\u001b[0m:\u001b[36m<module>\u001b[0m:\u001b[36m6\u001b[0m - \u001b[1m{'head': {'vars': ['averageEmission']}, 'results': {'bindings': [{'averageEmission': {'datatype': 'http://www.w3.org/2001/XMLSchema#decimal', 'type': 'literal', 'value': '24.983333333333333333333333'}}]}}\u001b[0m\n"
     ]
    }
   ],
   "source": [
    "from lib import run_query\n",
    "\n",
    "result = run_query(query_generation_response)\n",
    "\n",
    "logger.info(\"=========== QUERY RESULT ============\")\n",
    "logger.info(result)"
   ]
  }
 ],
 "metadata": {
  "kernelspec": {
   "display_name": "venv",
   "language": "python",
   "name": "python3"
  },
  "language_info": {
   "codemirror_mode": {
    "name": "ipython",
    "version": 3
   },
   "file_extension": ".py",
   "mimetype": "text/x-python",
   "name": "python",
   "nbconvert_exporter": "python",
   "pygments_lexer": "ipython3",
   "version": "3.10.6"
  },
  "orig_nbformat": 4
 },
 "nbformat": 4,
 "nbformat_minor": 2
}
